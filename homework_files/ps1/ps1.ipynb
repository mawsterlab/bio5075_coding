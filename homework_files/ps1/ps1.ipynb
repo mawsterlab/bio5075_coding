{
 "cells": [
  {
   "cell_type": "markdown",
   "metadata": {},
   "source": [
    "Before you turn this problem in, make sure everything runs as expected. First, **restart the kernel** (in the menubar, select Kernel $\\rightarrow$ Restart) and then **run all cells** (in the menubar, select Cell $\\rightarrow$ Run All).\n",
    "\n",
    "Make sure you fill in any place that says `YOUR ANSWER HERE`.\n",
    "\n",
    "To submit your homework, do one of the following: \n",
    "\n",
    "1. If you are enrolled for credit, upload only this .ipynb file via the assignment page on Canvas. Do not submit the associated data files. **Do not change the name of the file** - Canvas adds your name automatically. The file name should only have the ps number: `ps1.ipynb`, etc.\n",
    "\n",
    "2. If you are auditing, email the .ipynb file to mawhite@wustl.edu.\n",
    "\n",
    "---"
   ]
  },
  {
   "cell_type": "markdown",
   "metadata": {
    "deletable": false,
    "editable": false,
    "jp-MarkdownHeadingCollapsed": true,
    "nbgrader": {
     "cell_type": "markdown",
     "checksum": "c60563d3c360fae50c33ef81fb75e056",
     "grade": false,
     "grade_id": "cell-18c23e24dcd1d0d0",
     "locked": true,
     "schema_version": 3,
     "solution": false,
     "task": false
    }
   },
   "source": [
    "# Problem set 1: Variables, Lists, Loops (10 points)\n",
    "\n",
    "*This first problem is mostly a quick recap of what we covered in class (with a few small bonus topics). It may seem tedious to keep going over the same ideas, but the point here is to practice working with Python and Jupyter.*\n",
    "\n",
    "**NOTE about homework files:** Feel free to add blank cells anywhere to use as scratch space; it won't affect the grading software. In the notebook menu above, choose \"Insert\", then insert a cell below or above. \n",
    "\n",
    "---\n",
    "# Part 0: Variables\n",
    "\n",
    "In class we discussed a few important features of variables in Python and Jupyter notebook:\n",
    "\n",
    "**Variables can be assigned different types of data**\n",
    "\n",
    "The main simple data types are these:\n",
    "```python\n",
    "gene = 'CDC28'            # string (str) - any sequence of characters placed within quotes\n",
    "n_mice = 13               # integer (int)\n",
    "protein_level = 1.76      # floating-point numbers (float) - numbers with decimals\n",
    "is_present = True         # boolean (bool) - True or False, also 0 or 1 can be interpreted as boolean\n",
    "```\n",
    "\n",
    "\n",
    "**A variable assigned one type of data can be reassigned to another type of data**\n",
    "\n",
    "As your code gets more complex, sometimes you'll find that a variable hasn't been assigned the data type you expect - such as the string `'1'` rather than the integer `1`. If it's not obvious what type a variable is, you can use the `type()` function to determine what type of value a variable holds.\n",
    "\n",
    "One feature of Python not present in some other languages is that a variable can be reassigned values of different types:\n",
    "\n",
    "```python\n",
    "data = 123.4     # type is float\n",
    "data = 'CGCG'    # type is now string\n",
    "data = '123.4'   # type is still string - not a numeric type.\n",
    "```\n",
    "\n",
    "You can convert variables from one type to another. For example, if you have a number stored a string, you can convert it to a numeric type:\n",
    "\n",
    "```python\n",
    "data = '123.4'     # type is string - can't use it for math\n",
    "data = float(data) # Now you can use the value for math\n",
    "```\n",
    "\n",
    "**Variables defined from other variables are NOT automatically updated when you change other variables**\n",
    "\n",
    "Unlike math variables, computer variables can't be defined by other variables. Instead, computer variables are assigned whatever specific value was calculated from the variables on the right side of the assignment operator (`=`), at the time the assignment is made.\n",
    "\n",
    "\n",
    "```python\n",
    "test_value = 21\n",
    "control_value = 3\n",
    "\n",
    "fold_change = test_value/ control_value # fold-change is assigned the value of 7\n",
    "\n",
    "control_value = 4 # value of fold_change is not affected by this subsequent line of code.\n",
    "```\n",
    "\n",
    "**Variables will capture the result of whatever happens to the right of the assignment operator**\n",
    "\n",
    "In the example below, the function (more properly, the *method*) `.count()` is used to count the occurrences of 0 in the list `some_data`. The *output* of `some_data.count(0)` is 2. In order to store this result for future use, the output of `some_data.count(0)` is assigned to the variable `zeros`.\n",
    "\n",
    "```python\n",
    "some_data = [2, 6, 0, 7, 3, 0]\n",
    "zeros = some_data.count(0)\n",
    "```\n",
    "\n",
    "This is a simple example, but the principle is not trivial. As you write and debug more complex code, you'll likely run into cases in which your code performs some calculation whose output gets lost, because it's not being assigned to a variable.\n",
    "\n",
    "\n",
    "**Variables don't care about the order of cells in your notebook**\n",
    "The line numbers to the side of your code cells (`In [1]:`) show the order in which cells were run, and that is what really matters.\n",
    "\n",
    "If you change the value of a previously defined variable in a lower cell, re-running an upper cell will reflect that changed value. (The exception is when the upper cell has a line that sets the variable to its original value.) \n",
    "\n",
    "This can quickly lead to problems as you try to troubleshoot your code. The best way to avoid these problems is to try to make your code in each cell as self-contained as possible, defining all needed variables within a single cell. This isn't always possible or practical, so it's good to be aware of this issue.\n",
    "\n",
    "If, as you edit cells out of order, the state of your variables has become hopelessly confusing, it's best to just restart the Python interpreter. Click on the **Kernel** menu above, and select **\"Restart & Clear Output\"**. This will reset your Python session, clearing all variable assignments and output. Don't worry, it will not erase your work - your code will still be there. In fact, it's a good idea to try this with your homework to make sure all code runs without errors. (Select **\"Restart & Run All\"** to clear the Python session and automatically run all cells in order).\n",
    "\n",
    "## Problem 0.1 (1 point): Complete the following in the cell below\n",
    "Imagine that you have measured an expression value for the gene *Gli1*. In the cell below, do the following three things: \n",
    "\n",
    "1. Create a variable called `gene` and assign it the gene name Gli1. (What data type is the gene name? Don't answer this question in the code cell - just answer it for yourself.)\n",
    "2. Create a variable called `expression` and assign it the value 2.5. (What data type is this?)\n",
    "3. Print the values of `gene` and `expression` using the built-in function `print()`. "
   ]
  },
  {
   "cell_type": "code",
   "execution_count": null,
   "metadata": {
    "deletable": false,
    "nbgrader": {
     "cell_type": "code",
     "checksum": "f466b0046d0b322ef137a37b07ab393d",
     "grade": false,
     "grade_id": "assignment",
     "locked": false,
     "schema_version": 3,
     "solution": true,
     "task": false
    }
   },
   "outputs": [],
   "source": [
    "# YOUR ANSWER HERE\n",
    "raise NotImplementedError()"
   ]
  },
  {
   "cell_type": "code",
   "execution_count": null,
   "metadata": {
    "deletable": false,
    "editable": false,
    "nbgrader": {
     "cell_type": "code",
     "checksum": "04affde4b3231ec719100506fde0dd9c",
     "grade": true,
     "grade_id": "correct_assignment",
     "locked": true,
     "points": 1,
     "schema_version": 3,
     "solution": false,
     "task": false
    }
   },
   "outputs": [],
   "source": [
    "# This is cell is part of the auto-grading system. You can run it to check your answer.\n",
    "# If you do not get an error, it means your answer is (probably) correct.\n",
    "\n",
    "assert type(gene) == str\n",
    "assert type(expression) == float\n",
    "assert len(gene)/expression == 1.6"
   ]
  },
  {
   "cell_type": "markdown",
   "metadata": {
    "deletable": false,
    "editable": false,
    "nbgrader": {
     "cell_type": "markdown",
     "checksum": "8e73049f54737705daeb9cfa1af2497a",
     "grade": false,
     "grade_id": "cell-5e19de157fc6c1e2",
     "locked": true,
     "schema_version": 3,
     "solution": false,
     "task": false
    }
   },
   "source": [
    "### Strings\n",
    "\n",
    "To define a string, you can use single or double quotes. Single quotes are more typical in Python. For example:\n",
    "```python\n",
    "dna1 = 'ACGT'\n",
    "dna2 = \"ACGT\" # same as dna1\n",
    "```\n",
    "\n",
    "Normally we just use single quotes, but sometimes double quotes are useful. The following won't work - Python ends the string with the second quote mark after the n, and then sees a loose quote mark after t:\n",
    "\n",
    "```python\n",
    "word = 'don't'\n",
    "```\n",
    "If you ran this in an actual cell, you'd get an error (which would mess up the autograder). Also, note that the syntax coloring  shows you that your string consists of `'don'`. (You can create a scratch cell and try it - errors there won't mess up the grading software.)\n",
    "\n",
    "Triple quotes allow you to write strings that span multiple lines\n",
    "\n",
    "```python\n",
    "sequence = '''ATCGAGCTAGCGATC\n",
    "TGCCGAGCTACGATC\n",
    "CTCCGTTGCGTTGGC'''\n",
    "```\n",
    "\n",
    "## Problem 0.2 (1 point)\n",
    "As we saw, operators in Python have different meanings. The `+` operator means addition for numbers and concatenation for strings.\n",
    "\n",
    "In the cell below, use an operator (other than `+`) to create a string that consists of 100 copies of the substring `DNA`. Assign this long string to the variable `long`."
   ]
  },
  {
   "cell_type": "code",
   "execution_count": null,
   "metadata": {
    "deletable": false,
    "nbgrader": {
     "cell_type": "code",
     "checksum": "f2c5dc8d6b43e03c6562b9e3b469b60c",
     "grade": false,
     "grade_id": "long_DNA",
     "locked": false,
     "schema_version": 3,
     "solution": true,
     "task": false
    }
   },
   "outputs": [],
   "source": [
    "    # YOUR ANSWER HERE\n",
    "    raise NotImplementedError()"
   ]
  },
  {
   "cell_type": "code",
   "execution_count": null,
   "metadata": {
    "deletable": false,
    "editable": false,
    "nbgrader": {
     "cell_type": "code",
     "checksum": "bf5579aa9e5c1d421058185310e5b6e1",
     "grade": true,
     "grade_id": "correct_long_DNA",
     "locked": true,
     "points": 1,
     "schema_version": 3,
     "solution": false,
     "task": false
    }
   },
   "outputs": [],
   "source": [
    "# This is cell is part of the auto-grading system. You can run it to check your answer.\n",
    "# If you do not get an error, it means your answer is (probably) correct.\n",
    "assert len(long) == 300\n",
    "assert long[3:6] == 'DNA'"
   ]
  },
  {
   "cell_type": "markdown",
   "metadata": {
    "deletable": false,
    "editable": false,
    "nbgrader": {
     "cell_type": "markdown",
     "checksum": "0a05894ba758d7932598a12ff24d4ea4",
     "grade": false,
     "grade_id": "cell-8411a80f459f411d",
     "locked": true,
     "schema_version": 3,
     "solution": false,
     "task": false
    }
   },
   "source": [
    "**Some useful string methods**\n",
    "\n",
    "Here are a few useful methods for manipulating DNA sequences as string in Python. A 'method' in Python is a function that is attached to a particular Python object (like a string). Note below how the syntax of the methods `upper()` and `count()` is different from a function like `print()`."
   ]
  },
  {
   "cell_type": "code",
   "execution_count": null,
   "metadata": {},
   "outputs": [],
   "source": [
    "# run this cell\n",
    "dna = 'AGTCGAgcgtgactAcgTG'  # sequence of mixed upper and lower case\n",
    "print(dna.upper())           # converts to all upper case\n",
    "print(dna.lower())\n",
    "print(dna)                   # note the original variable is unchanged, because the output of .upper or .lower was not assigned to 'dna'"
   ]
  },
  {
   "cell_type": "code",
   "execution_count": null,
   "metadata": {},
   "outputs": [],
   "source": [
    "# run this cell\n",
    "\n",
    "DNA = dna.upper()    # convert to all upper case and assign to new variable\n",
    "DNA.count('CG')      # count CpG occurrences in a sequence"
   ]
  },
  {
   "cell_type": "code",
   "execution_count": null,
   "metadata": {},
   "outputs": [],
   "source": [
    "# run this cell\n",
    "\n",
    "RNA = DNA.replace('T', 'U')    # Convert DNA to RNA\n",
    "RNA"
   ]
  },
  {
   "cell_type": "markdown",
   "metadata": {
    "deletable": false,
    "editable": false,
    "nbgrader": {
     "cell_type": "markdown",
     "checksum": "b714c3bacc5ee0599048370c238a153f",
     "grade": false,
     "grade_id": "cell-76cbdbd566ffa9b6",
     "locked": true,
     "schema_version": 3,
     "solution": false,
     "task": false
    }
   },
   "source": [
    "---\n",
    "# Part 1: Lists\n",
    "\n",
    "In class, we saw how to use *lists* to hold multiple data values. Lists are a powerful tool for handling data, and learning how to work with lists is one of the most important skills you'll learn in this class. Later in the course we will use our list skills to build complex data structures to work with genomic datasets. Here we'll keep it simple and focus on some list basics.\n",
    "\n",
    "### Creating a new list\n",
    "\n",
    "A list in Python is just what it sounds like -- an *ordered* set of items. (There are unordered data types in Python, which we'll discuss later.) Lists can contain zero or more items, which are enclosed by square brackets and separated by commas:\n",
    "```python\n",
    "    []                # Empty list\n",
    "    [567]             # List with one item\n",
    "    [4,2,89,3]        # List of integers\n",
    "    [4,2,\"DNA\", 3.14] # List of mixed data types - usually we don't mix data, but you can\n",
    "```\n",
    "\n",
    "To actually use a list, you need to assign it to a variable:\n",
    "\n",
    "```python\n",
    "    my_list = []  # create a blank list\n",
    "```    \n",
    "\n",
    "## Problem 1.1 (1 point)\n",
    "\n",
    "In the cell below, create a list of the numbers 1 through 10 called ```numbers```. (Be sure to run the cell by hitting shift-enter.)"
   ]
  },
  {
   "cell_type": "code",
   "execution_count": null,
   "metadata": {
    "deletable": false,
    "nbgrader": {
     "cell_type": "code",
     "checksum": "86332ecd4f9a2aa70d71eab7a4103ef9",
     "grade": false,
     "grade_id": "new_list",
     "locked": false,
     "schema_version": 3,
     "solution": true,
     "task": false
    }
   },
   "outputs": [],
   "source": [
    "# YOUR ANSWER HERE\n",
    "raise NotImplementedError()\n",
    "\n",
    "print(numbers)"
   ]
  },
  {
   "cell_type": "code",
   "execution_count": null,
   "metadata": {
    "deletable": false,
    "editable": false,
    "nbgrader": {
     "cell_type": "code",
     "checksum": "201917afdd44f71b48c50ef7c2ad8673",
     "grade": true,
     "grade_id": "cell-2bb57b59ea9e8013",
     "locked": true,
     "points": 1,
     "schema_version": 3,
     "solution": false,
     "task": false
    }
   },
   "outputs": [],
   "source": [
    "# This is cell is part of the auto-grading system. You can run it to check your answer.\n",
    "# If you do not get an error, it means your answer is (probably) correct.\n",
    "\n",
    "assert numbers[-2] == 9"
   ]
  },
  {
   "cell_type": "markdown",
   "metadata": {
    "deletable": false,
    "editable": false,
    "nbgrader": {
     "cell_type": "markdown",
     "checksum": "2638c4ac69f373557b08c2fa40c7ffae",
     "grade": false,
     "grade_id": "cell-518fe5774d627196",
     "locked": true,
     "schema_version": 3,
     "solution": false,
     "task": false
    }
   },
   "source": [
    "### Accessing items in a list: Indexing\n",
    "To do something with an entire list, you just use the variable name of that list. But often you want to access individual items in the list. To do this, we use *indexing*. That is, you specify the position in the list you want to access, *starting with 0*. (Remember, computer scientists start counting at 0. This will be a common theme in your computational work.) Because lists are *ordered*, you access individual items by their position in the list.\n",
    "\n",
    "In the example pf the list `numbers` that you created above, ```numbers[0]``` will give you the first item in the list ```numbers```, which is 1.\n",
    "\n",
    "Less intuitively, you can use indexing by counting backwards from the end of the list. This can be a little confusing, because, unlike forward indexing, *counting backwards does not start from 0*. Look carefully at the following:\n",
    "\n",
    "```python\n",
    "numbers[-1] # last item\n",
    "numbers[-3] # third from the last item\n",
    "numbers[-len(numbers)] # first item - can you figure out why? Note the len() function nested within index brackets.\n",
    "```\n",
    "\n",
    "**Square brackets:** Somewhat confusingly, square brackets are used not only to define lists, but also for list indexing. *Don't confuse these two uses of square brackets!* They are not the same. When the brackets are placed right next to the variable name, they are being used for indexing:\n",
    "\n",
    "```python\n",
    "numbers[3]    # Gives you the 4th item in the list named 'numbers'.\n",
    "numbers = [3] # Defines a brand new list (or overwrites an existing one!) with only one item. \n",
    "```\n",
    "\n",
    "**Changing values in a list:**\n",
    "The following syntax is use to assign new values to items in a list. Use this syntax to solve the problem below.\n",
    "\n",
    "```python\n",
    "my_list = ['a','b','c','d']     # initial list\n",
    "my_list[2] = 'z'          # replaces 'c' with 'z'."
   ]
  },
  {
   "cell_type": "markdown",
   "metadata": {
    "deletable": false,
    "editable": false,
    "nbgrader": {
     "cell_type": "markdown",
     "checksum": "acd6b8f6ac6c44a9c4e44278b33e86a6",
     "grade": false,
     "grade_id": "cell-bd6493bd61facd9a",
     "locked": true,
     "schema_version": 3,
     "solution": false,
     "task": false
    }
   },
   "source": [
    "## Problem 1.2 (1 point)\n",
    "\n",
    "To practice indexing, do the following:\n",
    "\n",
    "1. Create a list assigned to the variable `letters`, consisting of the lowecase letters a-g, in alphabetical order.\n",
    "2. Change the second item in the list to the capital letter Q.\n",
    "3. Change the **second-to-last** item to the lowercase letter z. "
   ]
  },
  {
   "cell_type": "code",
   "execution_count": null,
   "metadata": {
    "deletable": false,
    "nbgrader": {
     "cell_type": "code",
     "checksum": "f9d95f0750355bbb6ef4426d1bedf045",
     "grade": false,
     "grade_id": "cell-8fa6d98733eaffd3",
     "locked": false,
     "schema_version": 3,
     "solution": true,
     "task": false
    }
   },
   "outputs": [],
   "source": [
    "# YOUR ANSWER HERE\n",
    "raise NotImplementedError()\n",
    "\n",
    "print(letters)"
   ]
  },
  {
   "cell_type": "code",
   "execution_count": null,
   "metadata": {
    "deletable": false,
    "editable": false,
    "nbgrader": {
     "cell_type": "code",
     "checksum": "1547d05c1a7d7200a50914c4bb60bb8b",
     "grade": true,
     "grade_id": "cell-60d5c0ceadf293ab",
     "locked": true,
     "points": 1,
     "schema_version": 3,
     "solution": false,
     "task": false
    }
   },
   "outputs": [],
   "source": [
    "# This is cell is part of the auto-grading system. You can run it to check your answer.\n",
    "# If you do not get an error, it means your answer is (probably) correct.\n",
    "\n",
    "test = 'asdgtQasjz'\n",
    "assert letters[int(25/5)] == test[len(test)-1]\n",
    "assert letters[int(36/-6)] == test[len(test)-5]\n",
    "assert letters[0] == test[0]\n",
    "assert len(letters) == 7"
   ]
  },
  {
   "cell_type": "markdown",
   "metadata": {
    "deletable": false,
    "editable": false,
    "nbgrader": {
     "cell_type": "markdown",
     "checksum": "4fde061dee4ec066d30a4f59b23c1f95",
     "grade": false,
     "grade_id": "cell-35b915398a01b73a",
     "locked": true,
     "schema_version": 3,
     "solution": false,
     "task": false
    }
   },
   "source": [
    "### Accessing items in a list: Slices\n",
    "\n",
    "To access several adjacent items in a list, you can use a *slice*. A slice uses square brackets like an index, and also starts counting from 0:\n",
    "\n",
    "```python\n",
    "numbers[3]    # Indexing gives you the 4th item in the list.\n",
    "numbers[3:7]  # Slicing gives you the 4th, 5th, 6th, and 7th items in the list.\n",
    "numbers[0:3]  # First through 3rd items in the list\n",
    "numbers[:3]   # Does the same thing as previous line\n",
    "numbers[3:]   # Grabs 4th through last items in the list\n",
    "```\n",
    "\n",
    "The numbering system for slices (inclusive start position, exclusive end position, counting starts from zero) can be confusing. But it's important to master it, becuase this numbering system will come up again and again.\n",
    "\n",
    "One easy way to think about this is to subtract the first number from the last number. For `numbers[3:7]`, 7 - 3 = 4, the number of items grabbed by the slice.\n",
    "\n",
    "## Problem 1.3 (1 point)\n",
    "\n",
    "Let's practice. In the cell below, use slicing to grab the numbers 1, 2, 3, and 4 from the list `numbers`. Assign the result to the variable `answer`. (What type of variable will `answer2` be after this? You can use `type()` or `print()` to check your guess.)"
   ]
  },
  {
   "cell_type": "code",
   "execution_count": null,
   "metadata": {
    "deletable": false,
    "nbgrader": {
     "cell_type": "code",
     "checksum": "3bf33facc8ba5a6bb9399f6a2613572e",
     "grade": false,
     "grade_id": "cell-8d78a4bd03d4e024",
     "locked": false,
     "schema_version": 3,
     "solution": true,
     "task": false
    }
   },
   "outputs": [],
   "source": [
    "# YOUR ANSWER HERE\n",
    "raise NotImplementedError()\n",
    "\n",
    "print(answer)"
   ]
  },
  {
   "cell_type": "code",
   "execution_count": null,
   "metadata": {
    "deletable": false,
    "editable": false,
    "nbgrader": {
     "cell_type": "code",
     "checksum": "70143d0b3a0dfc0e7ebc7ce087779fb8",
     "grade": true,
     "grade_id": "cell-da388a216f5f5565",
     "locked": true,
     "points": 1,
     "schema_version": 3,
     "solution": false,
     "task": false
    }
   },
   "outputs": [],
   "source": [
    "# This is cell is part of the auto-grading system. You can run it to check your answer.\n",
    "# If you do not get an error, it means your answer is (probably) correct.\n",
    "\n",
    "assert max(answer) == len(answer)"
   ]
  },
  {
   "cell_type": "markdown",
   "metadata": {
    "deletable": false,
    "editable": false,
    "nbgrader": {
     "cell_type": "markdown",
     "checksum": "992f92523840b5ff8e379c9b90788d58",
     "grade": false,
     "grade_id": "cell-94c58cf7e702529e",
     "locked": true,
     "schema_version": 3,
     "solution": false,
     "task": false
    }
   },
   "source": [
    "### Combining list manipulations\n",
    "\n",
    "In this last problem, you'll practice combining indexing with the `.append()` function to add a number from the list `more_numbers` to our list `numbers`.\n",
    "\n",
    "Recall how in class we used `.append()` to add a **single** item to the end of a list. (`.pop()` removes items from the end of a list - though as you'll see later in the class, taking items off a list turns out to not be as useful as appending items.)\n",
    "\n",
    "(What about putting items in the middle or beginning of a list? There are functions to do this, but using them is generally a bad idea. Unlike `.append()` and `.pop()`, inserting items in the middle of a list causes the position of every item in to change. Remember, lists are ordered, and store data by position. It is computationally slow to update the position of every item in lists with thousands of, say, gene expression measurements. Inserting things in the middle of lists makes bug-free coding harder.)\n",
    "\n",
    "Example of using `.append()`\n",
    "\n",
    "```python\n",
    "nucleosides = ['deoxyadenosine', 'deoxyguanosine', 'deoxythymidine'] # We're missing one!\n",
    "nucleosides.append('deoxycytidine') # Adds to end of list\n",
    "```\n",
    "\n",
    "## Problem 1.4 (2 points)\n",
    "In this problem, you'll combine list indexing with the `.append()` function. In the cell below, *use just one line of code* to take the middle letters c, d, and e from the list `letters` (using a slice), and append that slice to the list `numbers`.\n",
    "\n",
    "The substance of this problem is trivial, but implementing it in code is a little tricky: you have to take one operation (slicing) and nest it within a function. It's important to practice combinations like this. They are the basis of the powerful data manipulations we'll do using Python lists.\n",
    "\n",
    "**Note** If you look at the output of this operation, you'll see that you don't just get one list of numbers followed by some letters. You get a list within a list - the slice from `letters` becomes the last single item of the list `numbers`. Typically this will not be the behavior you want (you should concatenate rather than append one list to another), but for purposes of this problem, it's what I'm asking for."
   ]
  },
  {
   "cell_type": "code",
   "execution_count": null,
   "metadata": {
    "deletable": false,
    "nbgrader": {
     "cell_type": "code",
     "checksum": "eeaa13a86876fa15e848aadaf98f9c40",
     "grade": false,
     "grade_id": "cell-0cfbc9d28600d43f",
     "locked": false,
     "schema_version": 3,
     "solution": true,
     "task": false
    }
   },
   "outputs": [],
   "source": [
    "# redefining the list here, so that you get a clean start each time you rerun the cell.\n",
    "numbers = [1, 2, 3, 4, 5, 6, 7, 8, 9, 10]\n",
    "\n",
    "\n",
    "# YOUR ANSWER HERE\n",
    "raise NotImplementedError()\n",
    "\n",
    "print(numbers)"
   ]
  },
  {
   "cell_type": "code",
   "execution_count": null,
   "metadata": {
    "deletable": false,
    "editable": false,
    "nbgrader": {
     "cell_type": "code",
     "checksum": "613486dc3e6cc68b11f65e5d9420434f",
     "grade": true,
     "grade_id": "cell-8ac28b070a47283a",
     "locked": true,
     "points": 2,
     "schema_version": 3,
     "solution": false,
     "task": false
    }
   },
   "outputs": [],
   "source": [
    "# This is cell is part of the auto-grading system. You can run it to check your answer.\n",
    "# If you do not get an error, it means your answer is (probably) correct.\n",
    "\n",
    "assert len(numbers) == 11\n",
    "assert type(numbers[-1]) == list\n",
    "assert numbers[-1][1] == 'd' \n",
    "assert len(numbers[-1]) == 3"
   ]
  },
  {
   "cell_type": "markdown",
   "metadata": {
    "deletable": false,
    "editable": false,
    "nbgrader": {
     "cell_type": "markdown",
     "checksum": "3c10cddd38683ba0f8aaa94b6a02ffcc",
     "grade": false,
     "grade_id": "cell-3f3dcce808104352",
     "locked": true,
     "schema_version": 3,
     "solution": false,
     "task": false
    }
   },
   "source": [
    "To read more about lists, the official Python tutorial has a helpful page here: https://docs.python.org/3/tutorial/introduction.html#lists"
   ]
  },
  {
   "cell_type": "markdown",
   "metadata": {
    "deletable": false,
    "editable": false,
    "nbgrader": {
     "cell_type": "markdown",
     "checksum": "d7a590cd80b322d45838f79e245bb223",
     "grade": false,
     "grade_id": "cell-0906bee3abe15abb",
     "locked": true,
     "schema_version": 3,
     "solution": false,
     "task": false
    }
   },
   "source": [
    "---\n",
    "# Part 2: FOR loops\n",
    "\n",
    "During the class activities, you worked two lists of reporter gene data (the red and green channels). You normalized the red measurements by the *mean* of the green measurements. But a more typical practice is to normalize each measurement (red channel) by its own corresponding control measurement (green channel).\n",
    "\n",
    "So how do you write a FOR loop to take each red measurement and divide it by its corresponding green measurement? To do this, you need to know how to run a FOR loop over two or more lists at the same time. This skill will be critical in this class. You'll learn how to do that in this problem.\n",
    "\n",
    "### The `range()` function\n",
    "\n",
    "To solve our problem, we need to learn about `range()`, one of the most useful Python functions. It does a simple thing - generate a range of numbers. Here's the syntax:\n",
    "\n",
    "```python\n",
    "range(0,10) # generate numbers 0-9 (The 10 works like slices in lists: the last number in the range plus 1\n",
    "range(10) # same thing - default is to start from 0\n",
    "range(2,10) # generate numbers 2-9\n",
    "range(0,11, 2) # count by twos - 0, 2, 4, 6, 8, 10\n",
    "```\n",
    "\n",
    "The `range()` function by itself doesn't do much though. Run one of the expressions in the cell below. What happens?"
   ]
  },
  {
   "cell_type": "code",
   "execution_count": null,
   "metadata": {},
   "outputs": [],
   "source": [
    "# Try one of the expressions above. This is a scratch cell and is not graded.\n"
   ]
  },
  {
   "cell_type": "markdown",
   "metadata": {
    "deletable": false,
    "editable": false,
    "nbgrader": {
     "cell_type": "markdown",
     "checksum": "55e0f62ebf9fc26e53b10601d69bc0c8",
     "grade": false,
     "grade_id": "cell-3f8688671152752b",
     "locked": true,
     "schema_version": 3,
     "solution": false,
     "task": false
    }
   },
   "source": [
    "### Using `range()` in a `for` loop\n",
    "\n",
    "Nothing visibly happens when you call `range()`. However, it creates an object that you can iterate over with a `for` loop. In a `for` loop, you can use range in place of a list. In the cell below, you can see how this works. At each iteration through the `for` loop, the next number generated by `range()` is assigned to the variable `i`. Inside the block of the loop, the `print()` function is used to display the value of `i` in the output.\n",
    "\n",
    "This syntax for running a loop is very common in Python (though instead of `print()` something more useful is done). Be sure you understand what is happening here. You can ask ChatGPT to explain uses of `range` if any of this is confusing."
   ]
  },
  {
   "cell_type": "code",
   "execution_count": null,
   "metadata": {},
   "outputs": [],
   "source": [
    "# This cell is not graded.\n",
    "for i in range(10):\n",
    "    print(i)"
   ]
  },
  {
   "cell_type": "markdown",
   "metadata": {
    "deletable": false,
    "editable": false,
    "nbgrader": {
     "cell_type": "markdown",
     "checksum": "23522399ee8d0a338c141ffdc9666475",
     "grade": false,
     "grade_id": "cell-6b0a706f34211ae5",
     "locked": true,
     "schema_version": 3,
     "solution": false,
     "task": false
    }
   },
   "source": [
    "### Using `range()` to create list index values in a for loop\n",
    "\n",
    "Running a `for` loop over a range call produces a series of numbers in order. You can use those numbers as position indices for a list. In the cell below there are two lists. Write a single `for` loop using `range()` to iterate over both lists. Inside the block of the `for` loop (the indented part), use the numbers generated by `range()` as list indices.\n",
    "\n",
    "**Syntax hint**\n",
    "What number goes inside `range()`? Instead of manually counting how long the lists are, you can use the `len()` function to generate the correct number for `range`:\n",
    "\n",
    "```python\n",
    "range(len(dataset1))\n",
    "```\n",
    "Note that this approach assumes that both lists are the same length. You would write code to check this if you were to use this syntax in a larger program.\n"
   ]
  },
  {
   "cell_type": "code",
   "execution_count": null,
   "metadata": {},
   "outputs": [],
   "source": [
    "# This cell is not graded.\n",
    "dataset1 = [2.1, 3.8, 1.9, 3.4]\n",
    "dataset2 = [3.6, 8.9, 3.7, 1.6]\n",
    "\n",
    "# Use a single for loop to print out the items of both lists:\n",
    "\n"
   ]
  },
  {
   "cell_type": "markdown",
   "metadata": {
    "deletable": false,
    "editable": false,
    "nbgrader": {
     "cell_type": "markdown",
     "checksum": "6901ad979738f0b20237fac7bdb4456b",
     "grade": false,
     "grade_id": "cell-15a1faf63c2f91d4",
     "locked": true,
     "schema_version": 3,
     "solution": false,
     "task": false
    }
   },
   "source": [
    "## Prolem 2.1 (3 points)\n",
    "\n",
    "### Normalizing luciferase data\n",
    "\n",
    "Now we return to the luciferase problem from today's in-class activity. Your task is write a `for` loop that iterates over both `red` and `green` data at the same time, and divides the red value by its corresponding green value. The result should be appended to a new list called `normalized_data`.\n",
    "\n",
    "In the cell below, do the following:\n",
    "\n",
    "1. Create an empty list called `normalized_data`, to hold the normalized values.\n",
    "\n",
    "2. Write a `for` loop using `range()` and `len()` to iterate over both `red` and `green`. (You can call `len()` with either `red` or `green` as the argument - just pick one.)\n",
    "\n",
    "3. In the loop block (indented lines), divide the red value by the green value and `.append()` the result to the list `norm_data`. To access values in the red and green lists, use the numbers generated by `range()` as list indices."
   ]
  },
  {
   "cell_type": "code",
   "execution_count": null,
   "metadata": {
    "deletable": false,
    "nbgrader": {
     "cell_type": "code",
     "checksum": "c960713ccb7fc543b8ba5322645a6e8c",
     "grade": false,
     "grade_id": "cell-6d70e4353deb9881",
     "locked": false,
     "schema_version": 3,
     "solution": true,
     "task": false
    }
   },
   "outputs": [],
   "source": [
    "# Red and green luciferase data\n",
    "red = [23, 145, 203, 235, 354, 456]\n",
    "green = [5, 11, 6, 9, 8, 4]\n",
    "\n",
    "# YOUR ANSWER HERE\n",
    "raise NotImplementedError()\n",
    "\n",
    "print(normalized_data)  # look at your results"
   ]
  },
  {
   "cell_type": "code",
   "execution_count": null,
   "metadata": {
    "deletable": false,
    "editable": false,
    "nbgrader": {
     "cell_type": "code",
     "checksum": "c32112323a3b9484b2643d0bb4f2462c",
     "grade": true,
     "grade_id": "cell-7f71236c44e3a766",
     "locked": true,
     "points": 3,
     "schema_version": 3,
     "solution": false,
     "task": false
    }
   },
   "outputs": [],
   "source": [
    "# This is cell is part of the auto-grading system. You can run it to check your answer.\n",
    "# If you do not get an error, it means your answer is (probably) correct.\n",
    "\n",
    "assert len(normalized_data) == len(red)\n",
    "assert normalized_data[2] < 33.834 and normalized_data[0] == 4.6"
   ]
  }
 ],
 "metadata": {
  "kernelspec": {
   "display_name": "Python 3 (ipykernel)",
   "language": "python",
   "name": "python3"
  },
  "language_info": {
   "codemirror_mode": {
    "name": "ipython",
    "version": 3
   },
   "file_extension": ".py",
   "mimetype": "text/x-python",
   "name": "python",
   "nbconvert_exporter": "python",
   "pygments_lexer": "ipython3",
   "version": "3.11.9"
  }
 },
 "nbformat": 4,
 "nbformat_minor": 4
}
