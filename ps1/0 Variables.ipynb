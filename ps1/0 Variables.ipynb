{
 "cells": [
  {
   "cell_type": "markdown",
   "metadata": {
    "collapsed": true,
    "jupyter": {
     "outputs_hidden": true
    },
    "nbgrader": {
     "grade": false,
     "grade_id": "cell-c951a688116f3182",
     "locked": true,
     "schema_version": 3,
     "solution": false
    }
   },
   "source": [
    "## Problem 0: Working with variables (3 points)\n",
    "\n",
    "*This first problem is mostly a quick recap of what we covered in class (with a few small bonus topics). It may seem tedious to keep going over the same ideas, but the point here is to practice working with Python and Jupyter.*\n",
    "\n",
    "**NOTE about homework files:** Feel free to add blank cells anywhere to use as scratch space; it won't affect the grading software. In the notebook menu above, choose \"Insert\", then insert a cell below or above. DO NOT change the filename; that will affect the grading software.\n",
    "\n",
    "In class we discussed a few important features of variables in Python and Jupyter notebook:\n",
    "\n",
    "**Variables can be assigned different types of data**\n",
    "\n",
    "The main simple data types are these:\n",
    "```python\n",
    "gene = 'CDC28'            # string (str) - any sequence of characters placed within quotes\n",
    "n_mice = 13               # integer (int)\n",
    "protein_level = 1.76      # floating-point numbers (float) - numbers with decimals\n",
    "is_present = True         # boolean (bool) - True or False, also 0 or 1 can be interpreted as boolean\n",
    "```\n",
    "\n",
    "\n",
    "**A variable assigned one type of data can be reassigned to another type of data**\n",
    "\n",
    "As your code gets more complex, sometimes you'll find that a variable hasn't been assigned the data type you expect - such as the string `'1'` rather than the integer `1`.\n",
    "\n",
    "Remember you can use `type()` to determine what type of value a variable holds.\n",
    "```python\n",
    "data = 123.4     # type is float\n",
    "data = 'CGCG'    # type is now string\n",
    "data = '123.4'   # type is still string\n",
    "```\n",
    "\n",
    "**Variables defined from other variables are NOT automatically updated when you change other variables**\n",
    "\n",
    "Unlike math variables, computer variables can't be defined by other variables. Instead, computer variables are assigned whatever specific value was calculated from the variables on the right side of the assignment operator (`=`), at the time the assignment is made.\n",
    "\n",
    "\n",
    "```python\n",
    "test_value = 21\n",
    "control_value = 3\n",
    "\n",
    "fold_change = test_value/ control_value # fold-change is assigned the value of 7\n",
    "\n",
    "control_value = 4 # value of fold_change is not affected by this subsequent line of code.\n",
    "```\n",
    "\n",
    "**Variables will capture the result of whatever happens to the right of the assignment operator**\n",
    "\n",
    "In the example below, the function (more properly, the *method*) `.count()` is used to count the occurrences of 0 in the list `some_data`. The *output* of `some_data.count(0)` is 2. In order to store this result for future use, the output of `some_data.count(0)` is assigned to the variable `zeros`.\n",
    "\n",
    "```python\n",
    "some_data = [2, 6, 0, 7, 3, 0]\n",
    "zeros = some_data.count(0)\n",
    "```\n",
    "\n",
    "This is a simple example, but the principle is not trivial. As you write and debug more complex code, you'll likely run into cases in which your code performs some calculation whose output gets lost, because it's not being assigned to a variable.\n",
    "\n",
    "\n",
    "**Variables don't care about the order of cells in your notebook**\n",
    "The line numbers to the side of your code cells (`In [1]:`) show the order in which cells were run, and that is what really matters.\n",
    "\n",
    "If you change the value of a previously defined variable in a lower cell, re-running an upper cell will reflect that changed value. (The exception is when the upper cell has a line that sets the variable to its original value.) \n",
    "\n",
    "This can quickly lead to problems as you try to troubleshoot your code. The best way to avoid these problems is to try to make your code in each cell as self-contained as possible, defining all needed variables within a single cell. This isn't always possible or practical, so it's good to be aware of this issue.\n",
    "\n",
    "If, as you edit cells out of order, the state of your variables has become hopelessly confusing, it's best to just restart the Python interpreter. Click on the **Kernel** menu above, and select **\"Restart & Clear Output\"**. This will reset your Python session, clearing all variable assignments and output. Don't worry, it will not erase your work - your code will still be there. In fact, it's a good idea to try this with your homework to make sure all code runs without errors. (Select **\"Restart & Run All\"** to clear the Python session and automatically run all cells in order).\n",
    "\n",
    "Below is a simple example of what happens when you run cells out of order, when they have some variables in common. With more complex code, a cell near the top of your notebook that you rerun might be affected by a variable change that occurred a dozen cells lower down! "
   ]
  },
  {
   "cell_type": "code",
   "execution_count": 1,
   "metadata": {},
   "outputs": [],
   "source": [
    "# Step 1: Define a variable - run this cell\n",
    "multiplier = 6"
   ]
  },
  {
   "cell_type": "code",
   "execution_count": 2,
   "metadata": {},
   "outputs": [
    {
     "name": "stdout",
     "output_type": "stream",
     "text": [
      "60\n"
     ]
    }
   ],
   "source": [
    "# Step 2: Use our variable - run this cell\n",
    "data = 10\n",
    "print(data * multiplier)"
   ]
  },
  {
   "cell_type": "code",
   "execution_count": 3,
   "metadata": {},
   "outputs": [],
   "source": [
    "# Step 3: Change our variable - run this cell. Then go back and re-run Step 2 above. Does the result make sense?\n",
    "multiplier = 10"
   ]
  },
  {
   "cell_type": "markdown",
   "metadata": {
    "nbgrader": {
     "grade": false,
     "grade_id": "cell-f489bcacd12ce177",
     "locked": true,
     "schema_version": 3,
     "solution": false
    }
   },
   "source": [
    "Now for the actual problem 0 - a simple variable assignment exercise. Imagine that you have measured an expression value for the gene *Gli1*. In the cell below, do the following three things: \n",
    "\n",
    "1. Create a variable called `gene` and assign it the gene name Gli1. (What data type is the gene name? Don't answer this question in the code cell - just answer it for yourself.)\n",
    "2. Create a variable called `expression` and assign it the value 2.5. (What data type is this?)\n",
    "3. Print the values of `gene` and `expression` using `print()`. "
   ]
  },
  {
   "cell_type": "code",
   "execution_count": 4,
   "metadata": {
    "nbgrader": {
     "grade": false,
     "grade_id": "cell-f6736cae7be51597",
     "locked": false,
     "schema_version": 3,
     "solution": true
    }
   },
   "outputs": [
    {
     "name": "stdout",
     "output_type": "stream",
     "text": [
      "Gli1 2.5\n"
     ]
    }
   ],
   "source": [
    "### BEGIN SOLUTION\n",
    "gene = 'Gli1'\n",
    "expression = 2.5\n",
    "print(gene, expression)\n",
    "### END SOLUTION"
   ]
  },
  {
   "cell_type": "code",
   "execution_count": 5,
   "metadata": {
    "nbgrader": {
     "grade": true,
     "grade_id": "cell-7d8b5f4273b7d2ab",
     "locked": true,
     "points": 1,
     "schema_version": 3,
     "solution": false
    }
   },
   "outputs": [],
   "source": [
    "# This is cell is part of the auto-grading system. You can run it to check your answer.\n",
    "# If you do not get an error, it means your answer is (probably) correct.\n",
    "\n",
    "assert type(gene) == str\n",
    "assert type(expression) == float"
   ]
  },
  {
   "cell_type": "markdown",
   "metadata": {
    "nbgrader": {
     "grade": false,
     "grade_id": "cell-741a703e035f07f1",
     "locked": true,
     "schema_version": 3,
     "solution": false
    }
   },
   "source": [
    "As we saw in class, whether a function or operator works on a particular variable depends on what type of value the variable has been assigned:\n",
    "\n",
    "```python\n",
    "x = 10  # integer data type\n",
    "y = x + 1 # this works\n",
    "\n",
    "x ='10' # string data type\n",
    "y = x + 1 # invalid\n",
    "\n",
    "z = x + '1' # valid, but this is not mathematical addtion. What is it?\n",
    "\n",
    "```\n",
    "\n",
    "One function that does not work on integers or floats, but does work on strings (and lists, as well as some other data types) is the length function `len()`. It returns the number of characters in a string or items in a list.\n",
    "\n",
    "We saw how to use `len()` to determine the number of items in a list. You can use it to count the number of base pairs in a DNA sequence. In the cell below, do the following:\n",
    "\n",
    "1. Assign the sequence `CTAAGCCC` to a variable named `dna`.\n",
    "2. Use `len()` to determine the length of the sequence.\n",
    "3. Capture the output of `len()` by assigning the output to a variable named `answer`.\n",
    "    \n",
    "You can also create a blank cell to test the code example above, but it's not required."
   ]
  },
  {
   "cell_type": "code",
   "execution_count": 6,
   "metadata": {
    "nbgrader": {
     "grade": false,
     "grade_id": "cell-a22903350b25f6ac",
     "locked": false,
     "schema_version": 3,
     "solution": true
    }
   },
   "outputs": [],
   "source": [
    "### BEGIN SOLUTION\n",
    "dna = 'CTAAGCCC'\n",
    "answer = len(dna)\n",
    "### END SOLUTION"
   ]
  },
  {
   "cell_type": "code",
   "execution_count": 7,
   "metadata": {
    "nbgrader": {
     "grade": true,
     "grade_id": "cell-55d9ba40342e6428",
     "locked": true,
     "points": 1,
     "schema_version": 3,
     "solution": false
    }
   },
   "outputs": [],
   "source": [
    "assert type(dna) == str\n",
    "assert answer == len(dna)"
   ]
  },
  {
   "cell_type": "markdown",
   "metadata": {
    "nbgrader": {
     "grade": false,
     "grade_id": "cell-c60a79c9321956a1",
     "locked": true,
     "schema_version": 3,
     "solution": false
    }
   },
   "source": [
    "## More about String variables\n",
    "\n",
    "The next few cells demonstrate some features of string variables, which we didn't cover in class. Run the next few example cells to learn about strings. Then solve the problem below."
   ]
  },
  {
   "cell_type": "code",
   "execution_count": 8,
   "metadata": {},
   "outputs": [
    {
     "name": "stdout",
     "output_type": "stream",
     "text": [
      "ACGT\n"
     ]
    }
   ],
   "source": [
    "# Variables don't just hold numbers\n",
    "\n",
    "n = 'ACGT' # Characters enclosed in quotes are called strings\n",
    "print(n)"
   ]
  },
  {
   "cell_type": "code",
   "execution_count": 9,
   "metadata": {},
   "outputs": [
    {
     "name": "stdout",
     "output_type": "stream",
     "text": [
      "ACGT ACGT\n"
     ]
    }
   ],
   "source": [
    "# To define a string, you can use single or double quotes. Single quotes are more typical in Python\n",
    "dna1 = 'ACGT'\n",
    "dna2 = \"ACGT\" # same as dna1\n",
    "print(dna1, dna2)"
   ]
  },
  {
   "cell_type": "markdown",
   "metadata": {
    "nbgrader": {
     "grade": false,
     "grade_id": "cell-dab257e6c4de6784",
     "locked": true,
     "schema_version": 3,
     "solution": false
    }
   },
   "source": [
    "Normally we just use single quotes, but sometimes double quotes are useful. The following won't work - Python ends the string with the second quote mark after the n, and then sees a loose quote mark after t:\n",
    "\n",
    "```python\n",
    "word = 'don't'\n",
    "```\n",
    "If you ran this in an actual cell, you'd get an error (which would mess up the autograder). Also, note that the syntax coloring  shows you that your string consists of `'don'`. (You can create a scratch cell and try it - errors there won't mess up the grading software.)"
   ]
  },
  {
   "cell_type": "code",
   "execution_count": 10,
   "metadata": {},
   "outputs": [
    {
     "name": "stdout",
     "output_type": "stream",
     "text": [
      "don't\n",
      "don't\n"
     ]
    }
   ],
   "source": [
    "# Here's how to do it properly:\n",
    "word = \"don't\"\n",
    "print(word)\n",
    "\n",
    "# You can also use the escape character \\ to achieve the same thing:\n",
    "word = 'don\\'t'\n",
    "print(word)"
   ]
  },
  {
   "cell_type": "code",
   "execution_count": 11,
   "metadata": {},
   "outputs": [
    {
     "name": "stdout",
     "output_type": "stream",
     "text": [
      "don't\n",
      "word\n"
     ]
    }
   ],
   "source": [
    "# Another subtlety\n",
    "print(word) # print the value of the variable word\n",
    "print('word') # print the string word - note the change in syntax coloring"
   ]
  },
  {
   "cell_type": "code",
   "execution_count": 12,
   "metadata": {},
   "outputs": [
    {
     "name": "stdout",
     "output_type": "stream",
     "text": [
      "ATCGAGCTAGCGATC\n",
      "TGCCGAGCTACGATC\n",
      "CTCCGTTGCGTTGGC\n"
     ]
    }
   ],
   "source": [
    "# Triple quotes allow you to write strings that span multiple lines\n",
    "\n",
    "sequence = '''ATCGAGCTAGCGATC\n",
    "TGCCGAGCTACGATC\n",
    "CTCCGTTGCGTTGGC'''\n",
    "\n",
    "print(sequence)"
   ]
  },
  {
   "cell_type": "code",
   "execution_count": 13,
   "metadata": {},
   "outputs": [
    {
     "data": {
      "text/plain": [
       "'AAAACCCC'"
      ]
     },
     "execution_count": 13,
     "metadata": {},
     "output_type": "execute_result"
    }
   ],
   "source": [
    "# Some math operators have different meanings when used with strings:\n",
    "\n",
    "dna3, dna4 = 'AAAA', 'CCCC' # This is trick to assign multiple variables in one line\n",
    "\n",
    "dna3 + dna4 # What does + mean here? Try it out."
   ]
  },
  {
   "cell_type": "markdown",
   "metadata": {
    "nbgrader": {
     "grade": false,
     "grade_id": "cell-d4e25cb5af68a909",
     "locked": true,
     "schema_version": 3,
     "solution": false
    }
   },
   "source": [
    "## Problem: Math operators and strings\n",
    "\n",
    "As mentioned above, math operators sometimes have different meaning when they are applied to strings. The plus '+' operator, when applied to strings, *concatenates* two strings. This is somewhat analagous to addition, so it makes sense. The technical term for an operator with different behaviors for different data types is called *operator overloading*. It's common in programming languages.\n",
    "\n",
    "Let's look at a different operator. What if you want to repeat a string several times? Which math operator would you use?\n",
    "\n",
    "In the cell below, use a math operator to repeat the string variable `dna4` five times, and assign the result to a new variable, `dna5`. To solve this problem, you'll have to explore a little - try a few math operators on strings to see what (if anything) they do."
   ]
  },
  {
   "cell_type": "code",
   "execution_count": 14,
   "metadata": {
    "nbgrader": {
     "grade": false,
     "grade_id": "cell-4a30d169e0560d68",
     "locked": false,
     "schema_version": 3,
     "solution": true
    }
   },
   "outputs": [
    {
     "name": "stdout",
     "output_type": "stream",
     "text": [
      "CCCCCCCCCCCCCCCCCCCC\n"
     ]
    }
   ],
   "source": [
    "# Repeat the string variable dna4 four times using a math operator, assign output to dna5.\n",
    "\n",
    "### BEGIN SOLUTION\n",
    "dna5 = dna4*5\n",
    "\n",
    "### END SOLUTION\n",
    "\n",
    "print(dna5) # see the result"
   ]
  },
  {
   "cell_type": "code",
   "execution_count": 15,
   "metadata": {
    "nbgrader": {
     "grade": true,
     "grade_id": "cell-17df2fdfc3b5ee5e",
     "locked": true,
     "points": 1,
     "schema_version": 3,
     "solution": false
    }
   },
   "outputs": [],
   "source": [
    "assert len(dna5) == 20"
   ]
  }
 ],
 "metadata": {
  "celltoolbar": "Create Assignment",
  "kernelspec": {
   "display_name": "Python 3 (ipykernel)",
   "language": "python",
   "name": "python3"
  },
  "language_info": {
   "codemirror_mode": {
    "name": "ipython",
    "version": 3
   },
   "file_extension": ".py",
   "mimetype": "text/x-python",
   "name": "python",
   "nbconvert_exporter": "python",
   "pygments_lexer": "ipython3",
   "version": "3.12.5"
  }
 },
 "nbformat": 4,
 "nbformat_minor": 4
}
