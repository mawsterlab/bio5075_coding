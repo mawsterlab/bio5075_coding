{
 "cells": [
  {
   "cell_type": "markdown",
   "metadata": {
    "nbgrader": {
     "grade": false,
     "grade_id": "cell-05c8fdfd5bf8e466",
     "locked": true,
     "schema_version": 3,
     "solution": false
    }
   },
   "source": [
    "# Problem 1: Working with lists (7 points)\n",
    "\n",
    "In class, we saw how to use *lists* to hold multiple data values. Lists are a powerful tool for handling data, and learning how to work with lists is one of the most important skills you'll learn in this class. Later in the course we will use our list skills to build complex data structures to work with genomic datasets. In this homework, we'll keep it simple and focus on some list basics."
   ]
  },
  {
   "cell_type": "markdown",
   "metadata": {
    "nbgrader": {
     "grade": false,
     "grade_id": "cell-f9df11f77d2b6dab",
     "locked": true,
     "schema_version": 3,
     "solution": false
    }
   },
   "source": [
    "### Creating a new list\n",
    "\n",
    "A list in Python is just what it sounds like -- an *ordered* set of items. (There are unordered data types in Python, which we'll discuss later.) Lists can contain zero or more items, which are enclosed by square brackets and separated by commas:\n",
    "```python\n",
    "    []                # Empty list\n",
    "    [567]             # List with one item\n",
    "    [4,2,89,3]        # List of integers\n",
    "    [4,2,\"DNA\", 3.14] # List of mixed data types - usually we don't mix data, but you can\n",
    "```\n",
    "\n",
    "To actually use a list, you need to assign it to a variable:\n",
    "\n",
    "```python\n",
    "    my_list = []  # create a blank list\n",
    "```    \n",
    "\n",
    "In the cell below, create a list of the numbers 1 through 10 called ```numbers```. (Be sure to run the cell by hitting shift-enter.)"
   ]
  },
  {
   "cell_type": "code",
   "execution_count": 1,
   "metadata": {
    "nbgrader": {
     "grade": false,
     "grade_id": "cell-b6f0aa255e523ffe",
     "locked": false,
     "schema_version": 3,
     "solution": true
    }
   },
   "outputs": [
    {
     "name": "stdout",
     "output_type": "stream",
     "text": [
      "[1, 2, 3, 4, 5, 6, 7, 8, 9, 10]\n"
     ]
    }
   ],
   "source": [
    "### BEGIN SOLUTION\n",
    "numbers = [1, 2, 3, 4, 5, 6, 7, 8, 9, 10]\n",
    "### END SOLUTION\n",
    "\n",
    "print(numbers)"
   ]
  },
  {
   "cell_type": "code",
   "execution_count": 2,
   "metadata": {
    "nbgrader": {
     "grade": true,
     "grade_id": "cell-5e35162fd9394c73",
     "locked": true,
     "points": 1,
     "schema_version": 3,
     "solution": false
    }
   },
   "outputs": [],
   "source": [
    "# Run this cell to check your answer. If it gives an error, your answer is not right.\n",
    "\n",
    "assert numbers[-2] == 9"
   ]
  },
  {
   "cell_type": "markdown",
   "metadata": {},
   "source": [
    "### Accessing items in a list: Indexing\n",
    "To do something with an entire list, you just use the variable name of that list. But often you want to access individual items in the list. To do this, we use *indexing*. That is, you specify the position in the list you want to access, *starting with 0*. (Remember, computer scientists start counting at 0. This will be a common theme in your computational work.) Because lists are *ordered*, you access individual items by their position in the list.\n",
    "\n",
    "So for example ```numbers[0]``` will give you the first item in the list ```numbers```, which is 1.\n",
    "\n",
    "Less intuitively, you can use indexing by counting backwards from the end of the list. This can be a little confusing, because, unlike forward indexing, *counting backwards does not start from 0*. Look carefully at the following:\n",
    "\n",
    "```python\n",
    "numbers[-1] # last item\n",
    "numbers[-3] # third from the last item\n",
    "numbers[-len(numbers)] # first item - can you figure out why? Note the function nested within and index.\n",
    "```\n",
    "\n",
    "**Square brackets:** Somewhat confusingly, square brackets are used not only to define lists, but also for list indexing. *Don't confuse these two uses of square brackets!* They are not the same. When the brackets are placed right next to the variable name, they are being used for indexing:\n",
    "\n",
    "```python\n",
    "numbers[3]    # Gives you the 4th item in the list named 'numbers'.\n",
    "numbers = [3] # Defines a brand new list (or overwrites an existing one!) with only one item. \n",
    "```\n",
    "\n",
    "To practice indexing, define a new list below, called ```more_numbers``` with four elements, the numbers 10, 11, 12, and 13 (in that order). Then, using indexing, calculate the sum of the **3rd item** from ```numbers``` and the **second-to-last item** in ```more_numbers```.  Assign the answer to a new variable, `answer1`."
   ]
  },
  {
   "cell_type": "code",
   "execution_count": 3,
   "metadata": {
    "nbgrader": {
     "grade": false,
     "grade_id": "cell-7e34ac727425af61",
     "locked": false,
     "schema_version": 3,
     "solution": true
    }
   },
   "outputs": [
    {
     "name": "stdout",
     "output_type": "stream",
     "text": [
      "15\n"
     ]
    }
   ],
   "source": [
    "# Create the list more_numbers, then add the requested list items.\n",
    "\n",
    "### BEGIN SOLUTION\n",
    "more_numbers = [10, 11, 12, 13]\n",
    "answer1 = numbers[2] + more_numbers[-2]\n",
    "### END SOLUTION\n",
    "\n",
    "print(answer1)"
   ]
  },
  {
   "cell_type": "code",
   "execution_count": 4,
   "metadata": {
    "nbgrader": {
     "grade": true,
     "grade_id": "cell-aa088db9478ac0c8",
     "locked": true,
     "points": 2,
     "schema_version": 3,
     "solution": false
    }
   },
   "outputs": [],
   "source": [
    "assert answer1 == 15\n",
    "assert more_numbers[-3] == 11"
   ]
  },
  {
   "cell_type": "markdown",
   "metadata": {
    "nbgrader": {
     "grade": false,
     "grade_id": "cell-a602600ffc43dc17",
     "locked": true,
     "schema_version": 3,
     "solution": false
    }
   },
   "source": [
    "### Accessing items in a list: Slices\n",
    "\n",
    "To access several adjacent items in a list, you can use a *slice*. A slice uses square brackets like an index, and also starts counting from 0:\n",
    "\n",
    "```python\n",
    "numbers[3]    # Indexing gives you the 4th item in the list.\n",
    "numbers[3:7]  # Slicing gives you the 4th, 5th, 6th, and 7th items in the list.\n",
    "numbers[0:3]  # First through 3rd items in the list\n",
    "```\n",
    "\n",
    "The numbering system for slices (inclusive start position, exclusive end position, counting starts from zero) can be confusing. But it's important to master it, becuase this numbering system will come up again and again.\n",
    "\n",
    "One easy way to think about this is to subtract the first number from the last number. For `numbers[3:7]`, 7 - 3 = 4, the number of items grabbed by the slice.\n",
    "\n",
    "Let's practice. In the cell below, use slicing to grab the numbers 11, 12, and 13 from the list `more_numbers`. Assign the result to the variable `answer2`. (What type of variable will `answer2` be after this? You can use `type()` or `print()` to check your guess.)"
   ]
  },
  {
   "cell_type": "code",
   "execution_count": 5,
   "metadata": {
    "nbgrader": {
     "grade": false,
     "grade_id": "cell-3afd954741094bb9",
     "locked": false,
     "schema_version": 3,
     "solution": true
    }
   },
   "outputs": [
    {
     "name": "stdout",
     "output_type": "stream",
     "text": [
      "[11, 12, 13]\n"
     ]
    }
   ],
   "source": [
    "# Grab the numbers 11, 12, and 13 from more-numbers, assign to answer2\n",
    "\n",
    "### BEGIN SOLUTION\n",
    "answer2 = more_numbers[1:4]\n",
    "### END SOLUTION\n",
    "\n",
    "print(answer2)"
   ]
  },
  {
   "cell_type": "code",
   "execution_count": 6,
   "metadata": {
    "nbgrader": {
     "grade": true,
     "grade_id": "cell-2d9dc0dd28c1efa6",
     "locked": true,
     "points": 2,
     "schema_version": 3,
     "solution": false
    }
   },
   "outputs": [],
   "source": [
    "assert max(answer2) == 13\n",
    "assert min(answer2) == 11\n",
    "assert type(answer2) == list"
   ]
  },
  {
   "cell_type": "markdown",
   "metadata": {
    "nbgrader": {
     "grade": false,
     "grade_id": "cell-dc93778ff114001d",
     "locked": true,
     "schema_version": 3,
     "solution": false
    }
   },
   "source": [
    "### Combining list manipulations\n",
    "\n",
    "In this last problem, you'll practice combining indexing with the `.append()` function to add a number from the list `more_numbers` to our list `numbers`.\n",
    "\n",
    "Recall how in class we used `.append()` to add a **single** item to the end of a list. (`.pop()` removes items from the end of a list - though as you'll see later in the class, taking items off a list turns out to not be as useful as appending items.)\n",
    "\n",
    "(What about putting items in the middle or beginning of a list? There are functions to do this, but using them is generally a bad idea. Unlike `.append()` and `.pop()`, inserting items in the middle of a list causes the position of every item in to change. Remember, lists are ordered, and store data by position. It is computationally slow to update the position of every item in lists with thousands of, say, gene expression measurements. Inserting things in the middle of lists makes bug-free coding harder.)\n",
    "\n",
    "Example of using `.append()`\n",
    "\n",
    "```python\n",
    "nucleosides = ['deoxyadenosine', 'deoxyguanosine', 'deoxythymidine'] # We're missing one!\n",
    "nucleosides.append('deoxycytidine') # Adds to end of list\n",
    "```\n",
    "\n",
    "In this problem, you'll combine list indexing with the `.append()` function. In the cell below, *use just one line of code* to take the number 11 from the list `more_numbers` (with indexing), and append it to the list `numbers`.\n",
    "\n",
    "The substance of this problem is trivial, but implementing it in code is a little tricky: you have to take one operation (indexing) and nest it within a function. It's important to practice combinations like this. They are the basis of the powerful data manipulations we'll do using Python lists."
   ]
  },
  {
   "cell_type": "code",
   "execution_count": 7,
   "metadata": {
    "nbgrader": {
     "grade": false,
     "grade_id": "cell-cb288e39c84b0ccc",
     "locked": false,
     "schema_version": 3,
     "solution": true
    }
   },
   "outputs": [
    {
     "name": "stdout",
     "output_type": "stream",
     "text": [
      "[1, 2, 3, 4, 5, 6, 7, 8, 9, 10, 11]\n"
     ]
    }
   ],
   "source": [
    "# Append the number 11 (from the list more_numbers) to the list numbers\n",
    "# Use just one line of code to do this\n",
    "\n",
    "### BEGIN SOLUTION\n",
    "numbers.append(more_numbers[1])\n",
    "\n",
    "### END SOLUTION\n",
    "\n",
    "print(numbers)"
   ]
  },
  {
   "cell_type": "code",
   "execution_count": 8,
   "metadata": {
    "nbgrader": {
     "grade": true,
     "grade_id": "cell-7fc3fde8c5e33f6e",
     "locked": true,
     "points": 2,
     "schema_version": 3,
     "solution": false
    }
   },
   "outputs": [],
   "source": [
    "assert len(numbers) == max(numbers)"
   ]
  },
  {
   "cell_type": "markdown",
   "metadata": {
    "nbgrader": {
     "grade": false,
     "grade_id": "cell-80a8c059a4f7437b",
     "locked": true,
     "schema_version": 3,
     "solution": false
    }
   },
   "source": [
    "### Bonus material - 2 extra points\n",
    "\n",
    "Here's something to try in the cell below. If you wanted to attach last 3 items of the list `more_numbers` to `numbers`, how would you do it? Try out your ideas in the cell below.\n",
    "\n",
    "What happens if you try to combine a slice of `more_numbers` with `.append()`? It's not what you expect. (Hint: check the output of `print()`. Pay particular attention to the positions of the square brackets.)\n",
    "\n",
    "Here are two hints for one way to do this: \n",
    "\n",
    "1. How did we combine two strings? Will this work for lists?\n",
    "2. A variable can be defined in terms of itself plus another variable (though think carefully about whether you want to alter a variable, or just alter a copy of that variable):\n",
    "\n",
    "```python\n",
    "total = 10 # 10 dollars in your account\n",
    "total = total - 1 # Subtract a dollar. Total is used to define a new value of total\n",
    "```\n",
    "\n",
    "Using the concepts of these two hints, you can write one line of code to append *some* of `more_numbers` to `numbers`."
   ]
  },
  {
   "cell_type": "code",
   "execution_count": 9,
   "metadata": {
    "nbgrader": {
     "grade": false,
     "grade_id": "cell-d4236df66a6dff6e",
     "locked": false,
     "schema_version": 3,
     "solution": true
    }
   },
   "outputs": [
    {
     "name": "stdout",
     "output_type": "stream",
     "text": [
      "[1, 2, 3, 4, 5, 6, 7, 8, 9, 10, 11, 12, 13]\n"
     ]
    }
   ],
   "source": [
    "# I've reset the list numbers to its original state. Using just one line of code,  \n",
    "# try attaching the last three items from more_numbers, so that numbers is\n",
    "# a list of integers from 1 to 13.\n",
    "\n",
    "numbers = [1, 2, 3, 4, 5, 6, 7, 8, 9, 10]\n",
    "\n",
    "### BEGIN SOLUTION\n",
    "numbers = numbers + more_numbers[1:4]\n",
    "### END SOLUTION\n",
    "print(numbers)"
   ]
  },
  {
   "cell_type": "code",
   "execution_count": 10,
   "metadata": {
    "nbgrader": {
     "grade": true,
     "grade_id": "cell-7e1c10f25add86a8",
     "locked": true,
     "points": 2,
     "schema_version": 3,
     "solution": false
    }
   },
   "outputs": [],
   "source": [
    "assert len(numbers) == 13\n",
    "assert sum(numbers) == 91"
   ]
  },
  {
   "cell_type": "markdown",
   "metadata": {},
   "source": [
    "For more on lists, here are some hepful links:\n",
    "\n",
    "http://www.python-course.eu/python3_sequential_data_types.php\n",
    "\n",
    "http://www.python-course.eu/python3_list_manipulation.php\n",
    "\n",
    "https://docs.python.org/3/tutorial/introduction.html#lists"
   ]
  }
 ],
 "metadata": {
  "celltoolbar": "Create Assignment",
  "kernelspec": {
   "display_name": "Python 3 (ipykernel)",
   "language": "python",
   "name": "python3"
  },
  "language_info": {
   "codemirror_mode": {
    "name": "ipython",
    "version": 3
   },
   "file_extension": ".py",
   "mimetype": "text/x-python",
   "name": "python",
   "nbconvert_exporter": "python",
   "pygments_lexer": "ipython3",
   "version": "3.10.6"
  }
 },
 "nbformat": 4,
 "nbformat_minor": 2
}
