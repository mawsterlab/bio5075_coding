{
 "cells": [
  {
   "cell_type": "markdown",
   "id": "8f915dd8-8c08-45f0-b1e7-1eae178e9451",
   "metadata": {},
   "source": [
    "# Lecture 1 Python Basics\n",
    "\n",
    "## Topics:\n",
    "\n",
    "1. Jupyter notebook and Python\n",
    "2. Python Operators and Variables\n",
    "3. Lists\n",
    "4. FOR loops\n"
   ]
  },
  {
   "cell_type": "markdown",
   "id": "680b99cf-e3f1-4d7d-a832-a2ea0a5c2bf7",
   "metadata": {},
   "source": [
    "# 1. Jupyter\n",
    "\n",
    "## Why jupyter?\n",
    "\n",
    "- interactive\n",
    "- document your work: Code, visualizations, and markdown comments\n",
    "- Easy to replicate\n",
    "- Easy to share\n",
    "- Python and R\n",
    "- Pick jupyter lab or notebook\n",
    "\n",
    "Check it out:\n",
    "https://jupyter.org\n",
    "\n",
    "Documentation for jupyter lab: https://jupyterlab.readthedocs.io/en/stable/user/interface.html"
   ]
  },
  {
   "cell_type": "markdown",
   "id": "1d8f2796-8eed-44a2-a016-ce117accbfa6",
   "metadata": {},
   "source": [
    "### Idea 1: Notebook consist of code and markdown cells: \n",
    "A notebook consists of cells. Mainly markdown and code cells. You can copy cells, create new ones, delete cells,  run the whole notebook at once.\n",
    "\n",
    "With these cells, you do two things:\n",
    "\n",
    "1. Note down ideas, write explanations, etc. in markdown cells. Run these cells to format them.\n",
    "2. Write Python commands in code cells. Run these cells to execute code.\n",
    "\n",
    "### Idea 2: The kernel is the engine under the hood\n",
    "Runs your Python session, keeps track of variables and values.\n",
    "Restart clears memory of anything that happened in previous session, but does not alter typed text or code in cells.\n",
    "\n",
    "To oversimplify things, think of Python as made up of two parts: 1) a big table that keeps track of variables and their values, and 2) an 'intepreter' that executes commands and updates the variable table.\n",
    "\n",
    "### Idea 3: All your notebook work is saved as an .ipynb file\n",
    "This file keeps code, markdown text, etc. which you can easily share. It does NOT contain the external data files you may have used to generate images, plots, etc. Sharing notebooks is a good way to share code and reproduce analyses! Ipynb files are the way we distribute and turn in homework in this class.\n",
    "\n",
    "The file does NOT save your active Python session. When you quit, the kernel is shut down and the session memory is wiped clean. You need to rerun your code when you restart a new session."
   ]
  },
  {
   "cell_type": "markdown",
   "id": "dbe0b2b3-05df-4045-b1d5-cb4b83504e3b",
   "metadata": {},
   "source": [
    "## Markdown formatting\n",
    "\n",
    "# Big Header\n",
    "## Smaller Header\n",
    "### Even Smaller Header\n",
    "\n",
    "*Italic* text\n",
    "**Bold** text\n",
    "\n",
    "Use backticks for plain text for code examples:\n",
    "`print('Hello World'\\n)`\n",
    "\n",
    "Code example with syntax coloring:\n",
    "\n",
    "```python\n",
    "data = [1,2,3]\n",
    "print(data)\n",
    "```\n",
    "\n",
    "\n",
    "Lists are created by typing a number followed by a period or parentheses:\n",
    "1. Adenine\n",
    "2. Cytosine\n",
    "3. Guanine\n",
    "4. Thymine\n",
    "\n",
    "Math (LaTex format) is enclosed by dollar signs:\n",
    "\n",
    "$sample\\_mean = \\frac{sum}{n}$\n",
    "\n",
    "$x = {-b \\pm \\sqrt{b^2-4ac} \\over 2a}$\n"
   ]
  },
  {
   "cell_type": "code",
   "execution_count": 4,
   "id": "32251028-0c9d-4d2b-9564-61fb8d0aaa6c",
   "metadata": {},
   "outputs": [
    {
     "name": "stdout",
     "output_type": "stream",
     "text": [
      "Hello World\n"
     ]
    }
   ],
   "source": [
    "# This is a code cell. When you hit shift enter, commands are run in line order, top to bottom\n",
    "# When you run the cell, note In [1]: - input number. \n",
    "# Tells you that this cell was run, number is the nth cell run.\n",
    "# Rerun this cell and it will change to two\n",
    "\n",
    "x = 'Hello World'\n",
    "print(x) # prints the value of the variable"
   ]
  },
  {
   "cell_type": "markdown",
   "id": "b3422bd8-64d1-4f3d-911c-a98dadc24d5b",
   "metadata": {},
   "source": [
    "## Important: The order in which cells are run, not their visual order is what counts.\n",
    "\n",
    "Under the hood, the Python intepreter doesn't care about the visual order of the cell in your notebook. Only the order in which the cells were run matters. Variable values depend on run order, not notebook order. If you write your code such that it a lower cell requires that a higher cell run first, when you run them out of order you won't get the result you expect.\n",
    "\n",
    "Note the input numbers on the left - they tell you the order in which things were run.\n",
    "\n",
    "You can always reset the entire notebook by selecting one of the Restart options from the Kernel menu above. \n",
    "\n",
    "\n",
    "Two rules:\n",
    "\n",
    "1. Lines of code within a cell are executed in strict order, top to bottom.\n",
    "2. Cells can be run in any order (as long as the result is valid Python)"
   ]
  },
  {
   "cell_type": "code",
   "execution_count": 5,
   "id": "4c1ab891-7118-4d21-8f7a-65040830647f",
   "metadata": {},
   "outputs": [],
   "source": [
    "x = 'Hello World'"
   ]
  },
  {
   "cell_type": "code",
   "execution_count": 8,
   "id": "b87012c4-076a-4dfa-99c8-c83693cf3e8e",
   "metadata": {},
   "outputs": [
    {
     "name": "stdout",
     "output_type": "stream",
     "text": [
      "10000\n"
     ]
    }
   ],
   "source": [
    "print(x)"
   ]
  },
  {
   "cell_type": "code",
   "execution_count": 7,
   "id": "f280759b-32d1-4664-8d85-3ba3d244b689",
   "metadata": {},
   "outputs": [],
   "source": [
    "x = 10000 \n",
    "# running the cell above will print the new value, \n",
    "# even though the new value was set in a cell below"
   ]
  },
  {
   "cell_type": "markdown",
   "id": "43d54e93-f8e5-455b-a8ed-b8b5eb3ad2f6",
   "metadata": {},
   "source": [
    "# 2. Python\n",
    "\n",
    "\n",
    "Very widely used programming language in science and esp. machine learning.\n",
    "\n",
    "    - 'Scripting language' (interpreted at runtime, high level makes it easy to code and run across systems)\n",
    "    \n",
    "    - Very general purpose, can be applied to a wide range of computational problems.\n",
    "    \n",
    "    - Many scientific packages for data wrangling, statistics, and visualization\n",
    "    \n",
    "     \n",
    "## What does Python do?\n",
    "\n",
    "1. Executes commands\n",
    "2. Interacts with the host system (filesystem, OS)\n",
    "3. Displays any output\n",
    "4. Keeps a table of variables and their values"
   ]
  },
  {
   "cell_type": "markdown",
   "id": "75beb77c-6ca3-4ced-9de7-ca8236ae2aa1",
   "metadata": {},
   "source": [
    "# 3. Python Operators "
   ]
  },
  {
   "cell_type": "code",
   "execution_count": 9,
   "id": "d4b6f113-efa4-41e8-905b-bc5f2198e31b",
   "metadata": {},
   "outputs": [
    {
     "data": {
      "text/plain": [
       "5"
      ]
     },
     "execution_count": 9,
     "metadata": {},
     "output_type": "execute_result"
    }
   ],
   "source": [
    "#subtraction\n",
    "10-5"
   ]
  },
  {
   "cell_type": "code",
   "execution_count": 10,
   "id": "b4ef8588-8fc5-4340-8be7-145277352cc0",
   "metadata": {},
   "outputs": [
    {
     "data": {
      "text/plain": [
       "15"
      ]
     },
     "execution_count": 10,
     "metadata": {},
     "output_type": "execute_result"
    }
   ],
   "source": [
    "# multiplication\n",
    "3*5"
   ]
  },
  {
   "cell_type": "code",
   "execution_count": 12,
   "id": "e5c14f00-c186-4447-abe7-67592d338591",
   "metadata": {},
   "outputs": [
    {
     "data": {
      "text/plain": [
       "'DNA DNA DNA DNA DNA '"
      ]
     },
     "execution_count": 12,
     "metadata": {},
     "output_type": "execute_result"
    }
   ],
   "source": [
    "# Operators act differently with different data types \n",
    "'DNA ' * 5"
   ]
  },
  {
   "cell_type": "code",
   "execution_count": 13,
   "id": "7e6f0aae-43be-4214-932a-0e298abb3fb7",
   "metadata": {},
   "outputs": [
    {
     "data": {
      "text/plain": [
       "32"
      ]
     },
     "execution_count": 13,
     "metadata": {},
     "output_type": "execute_result"
    }
   ],
   "source": [
    "# Parentheses group operations just as in math\n",
    "\n",
    "(10*3) + 2"
   ]
  },
  {
   "cell_type": "code",
   "execution_count": 14,
   "id": "8fe5709a-8462-40e8-908a-f22b7de966e2",
   "metadata": {},
   "outputs": [
    {
     "data": {
      "text/plain": [
       "True"
      ]
     },
     "execution_count": 14,
     "metadata": {},
     "output_type": "execute_result"
    }
   ],
   "source": [
    "# Comparison\n",
    "10 > 5"
   ]
  },
  {
   "cell_type": "markdown",
   "id": "fd3caf8b-e6fe-4139-a8df-916fb824f91a",
   "metadata": {},
   "source": [
    "### Ask Wustl ChatGPT what the binary Python operators are"
   ]
  },
  {
   "cell_type": "markdown",
   "id": "0627e845-9e28-4c27-b309-6e522370c9d6",
   "metadata": {},
   "source": [
    "# 4. Python Data Types\n",
    "(Ask ChatGPT)"
   ]
  },
  {
   "cell_type": "code",
   "execution_count": 15,
   "id": "01865026-81e3-4ac1-9794-afb2e847f92a",
   "metadata": {},
   "outputs": [
    {
     "data": {
      "text/plain": [
       "10"
      ]
     },
     "execution_count": 15,
     "metadata": {},
     "output_type": "execute_result"
    }
   ],
   "source": [
    "# integer\n",
    "10"
   ]
  },
  {
   "cell_type": "code",
   "execution_count": 16,
   "id": "f8e0bf3d-71dc-4228-8153-1abf6037d695",
   "metadata": {},
   "outputs": [
    {
     "data": {
      "text/plain": [
       "3.14"
      ]
     },
     "execution_count": 16,
     "metadata": {},
     "output_type": "execute_result"
    }
   ],
   "source": [
    "# floating point number\n",
    "\n",
    "3.14"
   ]
  },
  {
   "cell_type": "code",
   "execution_count": 17,
   "id": "c8259362-fd72-447a-ba47-65cb5ab8826b",
   "metadata": {},
   "outputs": [
    {
     "data": {
      "text/plain": [
       "True"
      ]
     },
     "execution_count": 17,
     "metadata": {},
     "output_type": "execute_result"
    }
   ],
   "source": [
    "# Boolean\n",
    "\n",
    "True"
   ]
  },
  {
   "cell_type": "code",
   "execution_count": 18,
   "id": "1d3441a1-16e3-4024-869b-07b910069514",
   "metadata": {},
   "outputs": [
    {
     "data": {
      "text/plain": [
       "'DNA'"
      ]
     },
     "execution_count": 18,
     "metadata": {},
     "output_type": "execute_result"
    }
   ],
   "source": [
    "# String (any characters)\n",
    "\n",
    "'DNA'"
   ]
  },
  {
   "cell_type": "code",
   "execution_count": 19,
   "id": "dae81003-0093-4cab-98fa-0b889ee4ca98",
   "metadata": {},
   "outputs": [
    {
     "data": {
      "text/plain": [
       "'10'"
      ]
     },
     "execution_count": 19,
     "metadata": {},
     "output_type": "execute_result"
    }
   ],
   "source": [
    "# Also a string\n",
    "\n",
    "'10'"
   ]
  },
  {
   "cell_type": "code",
   "execution_count": 20,
   "id": "d5f8b49b-50fb-496e-998a-24b5d2913c37",
   "metadata": {},
   "outputs": [
    {
     "data": {
      "text/plain": [
       "3.125"
      ]
     },
     "execution_count": 20,
     "metadata": {},
     "output_type": "execute_result"
    }
   ],
   "source": [
    "# operators work only on correct data types\n",
    "# Integer and float:\n",
    "\n",
    "10/3.2"
   ]
  },
  {
   "cell_type": "code",
   "execution_count": 21,
   "id": "25ccf1f7-83fb-45fe-8625-3a577746ebea",
   "metadata": {},
   "outputs": [],
   "source": [
    "# Try 10/'DNA'. Does it work?"
   ]
  },
  {
   "cell_type": "markdown",
   "id": "d8394347-f68d-4c67-a087-3a14f410f45c",
   "metadata": {},
   "source": [
    "# 5. The Assignment Operator\n",
    "\n",
    "Python would just be a basic calculator if you couldn't save values to variables.\n",
    "\n",
    "Key idea: we *assign* values to a variable with the assignment operator\n",
    "\n",
    "The `=` is one of the most important operators in Python. It *assigns* values to variables.\n",
    "\n",
    "Name of the variable is on the left of the assignment operator and an expression is on the right.\n",
    "\n",
    "Deep cut: Don't think of a variable as a container that holds a value. Instead, variables are pointers that point to objects in memory. So `n` points to the `int` object 25 in the below example. You can reassign `n` to point to a different object, and the same object can have multiple variables pointing at it. This latter phenomenon can lead to some unexpected results if you don't understand the concept of a vaiable as pointer. For example:"
   ]
  },
  {
   "cell_type": "code",
   "execution_count": 22,
   "id": "cea34a5d-8276-4351-acda-d7ba04acbdf4",
   "metadata": {},
   "outputs": [],
   "source": [
    "# Assigning values to a variable \n",
    "# note variable names in black\n",
    "\n",
    "n = 25 # assigning an integer\n",
    "nucleotide = 'adenine' # assigning a character string\n",
    "pi_approx = 3.14 # assigning a float\n",
    "is_detected = True # boolean type"
   ]
  },
  {
   "cell_type": "code",
   "execution_count": 23,
   "id": "44eeb13b-935b-49b6-a848-42005e3e1e9f",
   "metadata": {},
   "outputs": [
    {
     "data": {
      "text/plain": [
       "28.14"
      ]
     },
     "execution_count": 23,
     "metadata": {},
     "output_type": "execute_result"
    }
   ],
   "source": [
    "# You can write expression that operate on data values\n",
    "\n",
    "answer = 25 + 3.14\n",
    "answer"
   ]
  },
  {
   "cell_type": "code",
   "execution_count": 24,
   "id": "b3b6c163-b9c1-4a71-bf0d-160c002aebf2",
   "metadata": {},
   "outputs": [
    {
     "data": {
      "text/plain": [
       "28.14"
      ]
     },
     "execution_count": 24,
     "metadata": {},
     "output_type": "execute_result"
    }
   ],
   "source": [
    "# More often we write expressions that operate on variables\n",
    "\n",
    "answer = n + pi_approx\n",
    "answer"
   ]
  },
  {
   "cell_type": "markdown",
   "id": "f243ffce-e8d8-4770-8a7b-72518b703ab5",
   "metadata": {},
   "source": [
    "### Rules for naming variables:\n",
    "1. Names are case sensitive = `DNA`, `Dna`, and `dna` are all distinct.\n",
    "2. Don't begin with a number\n",
    "3. Generally stick to upper and lower case letters, and numbers\n",
    "4. Avoid these reserved names that are already used by Python:\n",
    "\n",
    "`and, as, assert, break, class, continue, def, del, elif, else,\n",
    "except, False, finally, for, from, global, if, import, in, is, \n",
    "lambda, None, nonlocal, not, or, pass, raise, return, True, try, \n",
    "while, with, yield`"
   ]
  },
  {
   "cell_type": "code",
   "execution_count": 25,
   "id": "49b5347e-e464-4ad6-8b49-733d5312b78b",
   "metadata": {},
   "outputs": [
    {
     "name": "stdout",
     "output_type": "stream",
     "text": [
      "Welcome to Python 3.12's help utility! If this is your first time using\n",
      "Python, you should definitely check out the tutorial at\n",
      "https://docs.python.org/3.12/tutorial/.\n",
      "\n",
      "Enter the name of any module, keyword, or topic to get help on writing\n",
      "Python programs and using Python modules.  To get a list of available\n",
      "modules, keywords, symbols, or topics, enter \"modules\", \"keywords\",\n",
      "\"symbols\", or \"topics\".\n",
      "\n",
      "Each module also comes with a one-line summary of what it does; to list\n",
      "the modules whose name or summary contain a given string such as \"spam\",\n",
      "enter \"modules spam\".\n",
      "\n",
      "To quit this help utility and return to the interpreter,\n",
      "enter \"q\" or \"quit\".\n",
      "\n"
     ]
    },
    {
     "name": "stdin",
     "output_type": "stream",
     "text": [
      "help>  q\n"
     ]
    },
    {
     "name": "stdout",
     "output_type": "stream",
     "text": [
      "\n",
      "You are now leaving help and returning to the Python interpreter.\n",
      "If you want to ask for help on a particular object directly from the\n",
      "interpreter, you can type \"help(object)\".  Executing \"help('string')\"\n",
      "has the same effect as typing a particular string at the help> prompt.\n"
     ]
    }
   ],
   "source": [
    "# To remember the list, try\n",
    "help()\n",
    "# then type keywords. TYPE QUIT IN THE HELP INTERFACE TO CONTINUE."
   ]
  },
  {
   "cell_type": "markdown",
   "id": "a03bea8c-f4b7-44b0-857d-caf42b8e3611",
   "metadata": {},
   "source": [
    "## 6. Built-in functions\n",
    "\n",
    "Function has a name. To call the function, type the function name followed by parentheses. Within the parentheses go zero or more arguments."
   ]
  },
  {
   "cell_type": "code",
   "execution_count": 26,
   "id": "312fccf5-f0dd-45a3-846a-4f43028c0e6f",
   "metadata": {},
   "outputs": [
    {
     "name": "stdout",
     "output_type": "stream",
     "text": [
      "28.14\n"
     ]
    }
   ],
   "source": [
    "print(answer)"
   ]
  },
  {
   "cell_type": "code",
   "execution_count": 27,
   "id": "d681e992-0112-4794-8bff-b210000efd6c",
   "metadata": {},
   "outputs": [
    {
     "data": {
      "text/plain": [
       "str"
      ]
     },
     "execution_count": 27,
     "metadata": {},
     "output_type": "execute_result"
    }
   ],
   "source": [
    "type(nucleotide)"
   ]
  },
  {
   "cell_type": "code",
   "execution_count": 28,
   "id": "40870444-9150-4250-a6f9-0840134423b6",
   "metadata": {},
   "outputs": [
    {
     "data": {
      "text/plain": [
       "12"
      ]
     },
     "execution_count": 28,
     "metadata": {},
     "output_type": "execute_result"
    }
   ],
   "source": [
    "len('AGCTAGCGATCG')"
   ]
  },
  {
   "cell_type": "markdown",
   "id": "ea870da5-7423-423e-b6fc-ffe30681b36b",
   "metadata": {},
   "source": [
    "## 7. Lists\n",
    "Lists are one of the most important data types in this course and in data analysis. \n",
    "\n",
    "List properties:\n",
    "\n",
    "1. Defined by enclosing zero or more values in **square brackets**, with individual items separated by comma.\n",
    "\n",
    "2. Lists are **ordered**: values are organized by their position in the list. We'll see other data types for which this isn't true.\n",
    "\n",
    "3. Lists elements can be of any type, or multiple types in a single list. But best practice is to stick with a single data type in the list.\n",
    "\n",
    "4. Lists are **mutable**: values can be changed\n",
    "\n",
    "\n",
    "## Key things to know working with lists:\n",
    "\n",
    "1. Indexing/slices\n",
    "2. Appending\n",
    "3. Other list functions (`sum()`, `len()`, `zip()`, etc.)\n",
    "4. Iteration with `for` loops"
   ]
  },
  {
   "cell_type": "code",
   "execution_count": 30,
   "id": "5e639a7d-9067-48f9-aa5d-c20e03459678",
   "metadata": {},
   "outputs": [],
   "source": [
    "# A list of floats - say four measurements from an experiment.\n",
    "data = [10.2, 11.1, 11.0, 9.5]"
   ]
  },
  {
   "cell_type": "code",
   "execution_count": 31,
   "id": "0ed1416a-e558-433f-9b04-1f2daa468117",
   "metadata": {},
   "outputs": [
    {
     "data": {
      "text/plain": [
       "4"
      ]
     },
     "execution_count": 31,
     "metadata": {},
     "output_type": "execute_result"
    }
   ],
   "source": [
    "# How many items are in the list? Use the lenght function len() to find out\n",
    "\n",
    "len(data)"
   ]
  },
  {
   "cell_type": "code",
   "execution_count": 32,
   "id": "174346f6-e98c-4055-8863-a6d779705808",
   "metadata": {},
   "outputs": [
    {
     "data": {
      "text/plain": [
       "10.2"
      ]
     },
     "execution_count": 32,
     "metadata": {},
     "output_type": "execute_result"
    }
   ],
   "source": [
    "# Access individual values in a list using indexing. Remember, lists are ordered!\n",
    "# COMPUTER SCIENTISTS BEGIN COUNTING FROM 0\n",
    "# Rerun this cell a few times with different position values.\n",
    "\n",
    "data[0]"
   ]
  },
  {
   "cell_type": "code",
   "execution_count": 33,
   "id": "1428f78f-90eb-4553-90e2-131778262575",
   "metadata": {},
   "outputs": [
    {
     "data": {
      "text/plain": [
       "9.5"
      ]
     },
     "execution_count": 33,
     "metadata": {},
     "output_type": "execute_result"
    }
   ],
   "source": [
    "# Access by counting backwards from the end\n",
    "data[-1]"
   ]
  },
  {
   "cell_type": "code",
   "execution_count": 34,
   "id": "0f0d1b92-6bb5-4a1e-8309-0029d211296b",
   "metadata": {},
   "outputs": [
    {
     "data": {
      "text/plain": [
       "[11.0, 9.5]"
      ]
     },
     "execution_count": 34,
     "metadata": {},
     "output_type": "execute_result"
    }
   ],
   "source": [
    "# Extract a range of positions. This is called a \"slice\".\n",
    "# To take a slice, the first number is the start position, the second is the *last position plus one*:\n",
    "\n",
    "data[2:4]\n",
    "\n",
    "# Try this a few times with different values. \n",
    "# Why is this numbering useful? What do you get if you subtract the last index from the first in a slice?"
   ]
  },
  {
   "cell_type": "code",
   "execution_count": 35,
   "id": "3ce6bd30-6c94-4a05-b74c-4500a8b112d4",
   "metadata": {},
   "outputs": [
    {
     "name": "stdout",
     "output_type": "stream",
     "text": [
      "[10.2, 11.3, 11.0, 9.5]\n"
     ]
    }
   ],
   "source": [
    "# You can change what's inside a list. In tech terms, lists are mutable.\n",
    "# Replace values in a list using indexing.\n",
    "\n",
    "data[1] = 11.3\n",
    "print(data)"
   ]
  },
  {
   "cell_type": "code",
   "execution_count": 36,
   "id": "ae9a4911-9ab5-4a0e-8a4b-59d9f35b484c",
   "metadata": {},
   "outputs": [
    {
     "data": {
      "text/plain": [
       "True"
      ]
     },
     "execution_count": 36,
     "metadata": {},
     "output_type": "execute_result"
    }
   ],
   "source": [
    "# Test for membership in a list with 'in'\n",
    "\n",
    "11.3 in data"
   ]
  },
  {
   "cell_type": "code",
   "execution_count": 37,
   "id": "2febfcda-b2b6-4d93-ae6f-7e153a0d5c86",
   "metadata": {},
   "outputs": [
    {
     "name": "stdout",
     "output_type": "stream",
     "text": [
      "[10.2, 11.3, 11.0, 9.5, 10.6]\n"
     ]
    }
   ],
   "source": [
    "# Add items to a list using append() - note the dot notation as we use this function.\n",
    "\n",
    "data.append(10.6)\n",
    "print(data)"
   ]
  },
  {
   "cell_type": "code",
   "execution_count": 38,
   "id": "6c0fb285-d9d3-493f-9abe-77cb163b7a62",
   "metadata": {},
   "outputs": [
    {
     "data": {
      "text/plain": [
       "3"
      ]
     },
     "execution_count": 38,
     "metadata": {},
     "output_type": "execute_result"
    }
   ],
   "source": [
    "# Very useful function - count occurrences of a value\n",
    "\n",
    "count_data = [0,1,4,2,4,0,0,2,6,3]\n",
    "count_data.count(0) # how many zeros in our data?"
   ]
  },
  {
   "cell_type": "markdown",
   "id": "8cb37be2-ca8e-4f20-8383-bdf1cdf080bc",
   "metadata": {},
   "source": [
    "# 8. Quick introduction to FOR loops \n",
    "\n",
    "`For` loops repeat a block of code. They are a good way to **iteratively** perform actions on items in data structures like lists and dictionaries. You can also set `for` loops to run a fixed number of times.\n",
    "\n",
    "**FOR loop SYNTAX TO REMEMBER:**\n",
    "Two ways to code a FOR loop to repeat a block of code:\n"
   ]
  },
  {
   "cell_type": "markdown",
   "id": "d8961197-86b3-4444-98f6-98f4c5d063a9",
   "metadata": {},
   "source": [
    "# 11. Quick introduction to FOR loops \n",
    "\n",
    "`For` loops repeat a block of code. They are a good way to **iteratively** perform actions on items in data structures like lists and dictionaries. You can also set `for` loops to run a fixed number of times.\n",
    "\n",
    "**FOR loop SYNTAX TO REMEMBER:**\n",
    "Two ways to code a FOR loop to repeat a block of code:\n"
   ]
  },
  {
   "cell_type": "code",
   "execution_count": 40,
   "id": "c058db7f-9c16-41fd-8995-83554d0e91bd",
   "metadata": {},
   "outputs": [
    {
     "name": "stdout",
     "output_type": "stream",
     "text": [
      "10.2\n",
      "11.3\n",
      "11.0\n",
      "9.5\n",
      "10.6\n"
     ]
    }
   ],
   "source": [
    "# Syntax option 1: iterate directly over a list\n",
    "for data_point in data:\n",
    "    print(data_point)"
   ]
  },
  {
   "cell_type": "code",
   "execution_count": 41,
   "id": "a38327c9-a793-4e6e-9ba2-800235cf87f8",
   "metadata": {},
   "outputs": [
    {
     "name": "stdout",
     "output_type": "stream",
     "text": [
      "10.52\n"
     ]
    }
   ],
   "source": [
    "# Example of a FOR loop\n",
    "# Note the indents: indented lines are executed each time through the for loop\n",
    "# Non-indented lines are executed *after* the for loop\n",
    "\n",
    "total = 0\n",
    "for i in data:\n",
    "    total += i\n",
    "print(total/len(data))"
   ]
  },
  {
   "cell_type": "markdown",
   "id": "0f21663b-f030-45da-b8df-45b3e04e27b5",
   "metadata": {},
   "source": [
    "# Use ChatGPT to generate code for a list of the squares of te first 10 integers"
   ]
  },
  {
   "cell_type": "markdown",
   "id": "ebf4d5a5-d89f-4d71-b733-ada91332efdf",
   "metadata": {},
   "source": [
    "# ACTIVITY: Complete Activity 1 to practice working with Python variables\n",
    "\n",
    "To learn more on this topic see:\n",
    "\n",
    "https://python.swaroopch.com/basics.html\n",
    "\n",
    "https://python.swaroopch.com/op_exp.html"
   ]
  },
  {
   "cell_type": "markdown",
   "id": "fde2dbf2-b0d2-4596-bed5-6a4c31d03c91",
   "metadata": {},
   "source": [
    "# ACTIVITY: Complete The activity to practice working with Python variables\n",
    "\n",
    "To learn more on this topic see:\n",
    "\n",
    "https://python.swaroopch.com/basics.html\n",
    "\n",
    "https://python.swaroopch.com/op_exp.html"
   ]
  },
  {
   "cell_type": "markdown",
   "id": "3167cedb-3e13-43f6-ba2c-74a28bda899b",
   "metadata": {},
   "source": [
    "## Supplementary reading:\n",
    "\n",
    "This was just a brief overview of basic Python syntax. **If you are unfamiliar with Python and need to reinforce your understanding, work through the supplementary reading.**\n",
    "\n",
    "If you're new to Python:\n",
    "\n",
    "Read the chapters Basics, Operators & Expressions from the online textbook *A Byte of Python*\n",
    "https://python.swaroopch.com\n",
    "\n",
    "\n",
    "If you know Python:\n",
    "**I strongly recommend that you build your Python knowledge by reading the official documentation, which presents more rigorous explanations of the implementationof Python syntax.**\n",
    "\n",
    "A more advanced introduction is in the official Python documentation:\n",
    "\n",
    "Variables: https://docs.python.org/3/tutorial/introduction.html\n"
   ]
  },
  {
   "cell_type": "code",
   "execution_count": null,
   "id": "2e533b56-2188-44c2-bc8e-c3367422bbbd",
   "metadata": {},
   "outputs": [],
   "source": []
  }
 ],
 "metadata": {
  "kernelspec": {
   "display_name": "Python 3 (ipykernel)",
   "language": "python",
   "name": "python3"
  },
  "language_info": {
   "codemirror_mode": {
    "name": "ipython",
    "version": 3
   },
   "file_extension": ".py",
   "mimetype": "text/x-python",
   "name": "python",
   "nbconvert_exporter": "python",
   "pygments_lexer": "ipython3",
   "version": "3.11.9"
  }
 },
 "nbformat": 4,
 "nbformat_minor": 5
}
