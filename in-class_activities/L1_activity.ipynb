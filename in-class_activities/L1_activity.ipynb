{
 "cells": [
  {
   "cell_type": "markdown",
   "metadata": {},
   "source": [
    "# Lecture 1 Activity: Variables\n"
   ]
  },
  {
   "cell_type": "markdown",
   "metadata": {},
   "source": [
    "## Problem 1: Equations with variables\n",
    "\n",
    "You want to make 1 mL of a 20 mM solution of ATP. You have powdered ATP-disodium salt from Sigma, whose molecular weight is 551.1. How many mg of ATP do you need to add to 1 mL of water for a 20 mM solution? \n",
    "\n",
    "Instead of Googling 'molarity calculator', you decide to write your own calculator in Python. Checking Sigma's Mass Molarity Calculator page (https://www.sigmaaldrich.com/chemistry/stockroom-reagents/learning-center/technical-library/mass-molarity-calculator.html), you're reminded that the calculation you need is:\n",
    "\n",
    "`Mass (g) = Concentration (mol/L) * Volume (L) * Molecular Weight (g/mol)`\n",
    "\n",
    "In the cell below, assign the appropriate values to variables named `concentration`, `molecular_weight`, and `volume`. Then write a Python expression using these variables to calculate the mg ATP needed, and assign the answer to `mg_ATP`. Then, to see the answer print the variable `mg_ATP`.\n",
    "\n",
    "Remember your units! For example, `volume` should be 0.001 for 1 mL."
   ]
  },
  {
   "cell_type": "code",
   "execution_count": null,
   "metadata": {},
   "outputs": [],
   "source": []
  },
  {
   "cell_type": "code",
   "execution_count": null,
   "metadata": {},
   "outputs": [],
   "source": [
    "# Run this cell to check your answer. If your mg_ATP is correct, the cell will run without errors.\n",
    "# If it's incorrect, you'll get an error message.\n",
    "\n",
    "assert mg_ATP == 11.022"
   ]
  },
  {
   "cell_type": "markdown",
   "metadata": {},
   "source": [
    "Here are a few things to note about the code you wrote above:\n",
    "\n",
    "1. You defined a new variable (`mg_ATP`) in terms of other variables. This may seem obvious, but it's a useful principle: variables don't need to be directly assigned their values; they can be defined by operations on other variables. (What data type is `mg_ATP`? Did it inherit the data type of the variables defining it? You can check this using `type()`.)\n",
    "\n",
    "2. *Assignment* `=` is not the same as the mathematical equals sign. When you do a molarity calculation on paper, it doesn't matter whether you write the answer on the left or the right side of the equals sign. But in Python, the assigned variable always goes on the left, and the expression that determines its value goes on the right.\n",
    "\n"
   ]
  },
  {
   "cell_type": "markdown",
   "metadata": {},
   "source": [
    "## Problem 2: Variables from other variables are not dynamically updated\n",
    "\n",
    "This is critical: A variable whose value comes from other variables is **not** automatically updated if you change those other variables. \n",
    "\n",
    "For example, in **Problem 1** you created the variable `mg_ATP` by multiplying other variables. Python does the multiplcation once, and assigns the answer to `mg_ATP`. The variable name `mg_ATP` points to a single value, not the equation in your code.\n",
    "\n",
    "Variables in Python are not like variables in a math equation. Variables are pointers that point to objects in your computer's memory. That object can be an integer, string, float, etc., or more complex data types that we discuss later. In the code for problem one, the multiplication is performed to produce a number (11.022), and then `mg_ATP` points to that value. \n",
    "\n",
    "To see this in action, try the following problem:\n",
    "\n",
    "You now need a 100 mM solution of ATP. In the cell below, change `concentration` to 0.1 (using the assinment operator again). Then use `print()` to show the value of `mg_ATP`. Did it change to the right amount for a 100 mM solution? What would you have to do to get the right answer?"
   ]
  },
  {
   "cell_type": "code",
   "execution_count": null,
   "metadata": {},
   "outputs": [],
   "source": []
  },
  {
   "cell_type": "markdown",
   "metadata": {},
   "source": [
    "It will be critical in this course to remember that variables defined by other variables are not automatically updated. This can sometimes be challenging in Jupyter notebook, when cells can be run out of order. Remember, Python mainly stores a giant table of variable names and their values. It does not store the expressions used to create those values."
   ]
  },
  {
   "cell_type": "markdown",
   "metadata": {},
   "source": [
    "## Problem 3: Copying a variable\n",
    "\n",
    "In this problem, we'll see another case of non-updated variables.\n",
    "\n",
    "It's sometimes useful to make a copy of a variable by assigning that variable to a new one. What happens to the copy when you change the value of the original variable? As you might guess, the copy *is not updated*. (However, there are exceptions when it comes to more complex data types like lists. We'll get there soon.)\n",
    "\n",
    "To see this, make a copy of `mg_ATP` by assigning to a new variable, `mg_ATP_copy` in the cell below. Then use `print()` to display the value of both variables. When you execute the cell, you see that both variables have the same value.\n",
    "\n",
    "In the next cell cell, change the value of `mg_ATP` to `10000`, then print both variables again. What happened to `mg_ATP_copy` when the value of `mg_ATP` was changed?"
   ]
  },
  {
   "cell_type": "code",
   "execution_count": null,
   "metadata": {},
   "outputs": [],
   "source": []
  },
  {
   "cell_type": "code",
   "execution_count": null,
   "metadata": {},
   "outputs": [],
   "source": []
  },
  {
   "cell_type": "markdown",
   "metadata": {},
   "source": [
    "In this example, `mg_ATP` and `mg_ATP_copy` were pointers to the same value (the same memory object). When you changes `mg_ATP`, that variable now pointed to a new value, but `mg_ATP_copy` continued to point to the original value. The pointers (variables) are independent, even though they may sometimes point to the same object."
   ]
  },
  {
   "cell_type": "markdown",
   "metadata": {},
   "source": [
    "## Problem 4: Capturing the output of a function by assigning it to a variable.\n",
    "\n",
    "In this course we'll spend a lot of time working with and writing functions. Functions, like `type()` or `print()` take an input and return an output. That output can be \"captured\" by assigning it to another variable. In fact if you don't assign the output of a function to a variable, it is not stored anyway. The value may be displayed and then it vanishes from your computer's memory.\n",
    "\n",
    "This is a common way for code to fail in the homework for this class: you may write a function, but forget to assign the output to a variable, and then your code doesn't work.\n",
    "\n",
    "Practice this idea in the cell below. Use `type()` to determine the data type of `mg_ATP`, and assign the output to a new variable (call it whatever you want). Do the same thing for the `mg_ATP_copy`. Then print both variables to compare their data types. \n",
    "\n",
    "Do you get the same data type? Why or why not?"
   ]
  },
  {
   "cell_type": "code",
   "execution_count": null,
   "metadata": {},
   "outputs": [],
   "source": []
  },
  {
   "cell_type": "markdown",
   "metadata": {},
   "source": [
    "## Problem 5: Assigning multiple variables in one line\n",
    "\n",
    "More than one variable can be assigned at once. To do this, variable names are written to the left of the assignment operator (`=`), separated by commas. Values for those variables are written to the right of `=`, separated by commas.\n",
    "\n",
    "In the cell below, rewrite your code for **Problem 1** so that `concentration`, `volume`, and `molecular_weight` are all assgined on the same line. Then write the expression to calculate `mg_ATP` and print the result."
   ]
  },
  {
   "cell_type": "code",
   "execution_count": null,
   "metadata": {},
   "outputs": [],
   "source": []
  },
  {
   "cell_type": "markdown",
   "metadata": {},
   "source": [
    "# Topic 2: For loops\n",
    "\n",
    "You can try using ChatGPT to solve this problem."
   ]
  },
  {
   "cell_type": "markdown",
   "metadata": {},
   "source": [
    "## Problem 1: Putting data into lists.\n",
    "\n",
    "We're going to walk though an example of how to use lists to process some experimental data. Imagine that you performed a two-color luciferase reporter gene experiment. In the red channel, you measured the activity of a reporter gene under six different drug concentrations. In the green channel, you measured the expression of your control reporter at each drug concentration. Below are the results:\n",
    "\n",
    "**Red:** 23, 145, 203, 235, 354, 456\n",
    "\n",
    "**Green:** 5, 11, 6, 9, 8, 4\n",
    "\n",
    "\n",
    "Your goal in this activity is to normalize the data by the *mean* of the green values. This will involve two steps requiring a FOR loop to move through a list:\n",
    "\n",
    "1) Calculate the mean of the green channel measurements over all samples.\n",
    "2) For each red channel measurement, divide by the mean green value and assign the result to a new list.\n",
    "\n",
    "(In the homework, you'll work on moving through two lists simultaneously, and normalize each red value by the green value for the same sample\n",
    "\n",
    "In the cell below, create two lists with these values - one called `red`, the other called `green`. Remember, lists are defined by comma-separated values enclosed within square brackets, and assigned to a variable with the assignment operator."
   ]
  },
  {
   "cell_type": "code",
   "execution_count": null,
   "metadata": {},
   "outputs": [],
   "source": []
  },
  {
   "cell_type": "markdown",
   "metadata": {},
   "source": [
    "## Problem 2: Calculate the mean green value\n",
    "\n",
    "To calculate the mean of the green channel measurements, you need to sum all the values in the `green` list, and then divide the sum by the number of samples.\n",
    "\n",
    "To get the number of samples, use the `len()` function to get the *length* of `green`. To calculate the sum, first define a variable called `green_sum` and set it to 0. Then write a FOR loop which takes each item in the `green` list and adds it to `green_sum`. (To add a value to `green_sum`, you could write something like:\n",
    "\n",
    "```python\n",
    "green_sum = green_sum + value\n",
    "```\n",
    "\n",
    "A Python shorthand for the code above is the `+=` operator:\n",
    "\n",
    "```python\n",
    "green_sum += value # means the same as the code above\n",
    "```\n",
    "\n",
    "In the cell below, determine the length of `green`, sum its values using a FOR loop, then divide the sum by the length. Assign the final result to `green_mean`."
   ]
  },
  {
   "cell_type": "code",
   "execution_count": null,
   "metadata": {},
   "outputs": [],
   "source": []
  },
  {
   "cell_type": "code",
   "execution_count": null,
   "metadata": {},
   "outputs": [],
   "source": [
    "# run this cell to check your answer.\n",
    "# An error message means your answer is wrong.\n",
    "assert 7.16 < green_mean and green_mean <7.17"
   ]
  },
  {
   "cell_type": "markdown",
   "metadata": {},
   "source": [
    "## Problem 3: Normalize red values by green mean\n",
    "\n",
    "Next, write code to complete the normalization. In the next cell, do the following:\n",
    "\n",
    "1) Create an emply list called `normalized_data` to hold the normalized values.\n",
    "2) Write a FOR loop that divides each red value by `green_mean`, then appends the result to `normalized_data`.\n",
    "\n",
    "The `.append()` function will be useful for solving this problem. Print `normalized_data` to see your result."
   ]
  },
  {
   "cell_type": "code",
   "execution_count": null,
   "metadata": {},
   "outputs": [],
   "source": []
  },
  {
   "cell_type": "markdown",
   "metadata": {},
   "source": [
    "## Problem 5: Check your result\n",
    "\n",
    "The list `normalized` should have the same number of items as the list `red` (and the list `green`). Use a function we discussed to determine the number of items in `normalized` and the number of items in `red`. \n",
    "\n",
    "You can also try directly dividing one red value by the green mean to see if it matches the output of your FOR loop."
   ]
  },
  {
   "cell_type": "code",
   "execution_count": null,
   "metadata": {},
   "outputs": [],
   "source": []
  },
  {
   "cell_type": "code",
   "execution_count": null,
   "metadata": {},
   "outputs": [],
   "source": [
    "# run this cell to check answer\n",
    "assert normalized_data[2] > 28.32 and normalized_data[3] < 32.80"
   ]
  }
 ],
 "metadata": {
  "kernelspec": {
   "display_name": "Python 3 (ipykernel)",
   "language": "python",
   "name": "python3"
  },
  "language_info": {
   "codemirror_mode": {
    "name": "ipython",
    "version": 3
   },
   "file_extension": ".py",
   "mimetype": "text/x-python",
   "name": "python",
   "nbconvert_exporter": "python",
   "pygments_lexer": "ipython3",
   "version": "3.11.9"
  }
 },
 "nbformat": 4,
 "nbformat_minor": 4
}
